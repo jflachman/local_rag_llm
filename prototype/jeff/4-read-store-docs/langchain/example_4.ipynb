{
 "cells": [
  {
   "cell_type": "code",
   "execution_count": 3,
   "metadata": {},
   "outputs": [
    {
     "ename": "AttributeError",
     "evalue": "module 'guidance' has no attribute 'llms'",
     "output_type": "error",
     "traceback": [
      "\u001b[0;31m---------------------------------------------------------------------------\u001b[0m",
      "\u001b[0;31mAttributeError\u001b[0m                            Traceback (most recent call last)",
      "Cell \u001b[0;32mIn[3], line 12\u001b[0m\n\u001b[1;32m      9\u001b[0m \u001b[38;5;28;01mimport\u001b[39;00m \u001b[38;5;21;01mguidance\u001b[39;00m\n\u001b[1;32m     11\u001b[0m \u001b[38;5;66;03m# set the default language model used to execute guidance programs\u001b[39;00m\n\u001b[0;32m---> 12\u001b[0m guidance\u001b[38;5;241m.\u001b[39mllm \u001b[38;5;241m=\u001b[39m \u001b[43mguidance\u001b[49m\u001b[38;5;241;43m.\u001b[39;49m\u001b[43mllms\u001b[49m\u001b[38;5;241m.\u001b[39mOpenAI(\u001b[38;5;124m\"\u001b[39m\u001b[38;5;124mtext-davinci-003\u001b[39m\u001b[38;5;124m\"\u001b[39m, caching\u001b[38;5;241m=\u001b[39m\u001b[38;5;28;01mFalse\u001b[39;00m)\n\u001b[1;32m     14\u001b[0m \u001b[38;5;66;03m# define a guidance program that adapts a proverb\u001b[39;00m\n\u001b[1;32m     15\u001b[0m program \u001b[38;5;241m=\u001b[39m guidance(\n\u001b[1;32m     16\u001b[0m \u001b[38;5;250m    \u001b[39m\u001b[38;5;124;03m\"\"\"Tweak this proverb to apply to model instructions instead.\u001b[39;00m\n\u001b[1;32m     17\u001b[0m \n\u001b[0;32m   (...)\u001b[0m\n\u001b[1;32m     23\u001b[0m \u001b[38;5;124;03m- GPT {{gen 'chapter'}}:{{gen 'verse'}}\"\"\"\u001b[39;00m\n\u001b[1;32m     24\u001b[0m )\n",
      "\u001b[0;31mAttributeError\u001b[0m: module 'guidance' has no attribute 'llms'"
     ]
    }
   ],
   "source": [
    "import os\n",
    "\n",
    "os.environ[\"OPENAI_API_KEY\"] = (\n",
    "    \"sk-xxxxxxxxxxxxxxxxxxxxxxxxxxxxxxxxxxxxxxxx\"  # can be anything\n",
    ")\n",
    "os.environ[\"OPENAI_API_BASE\"] = \"http://localhost:8100/v1\"\n",
    "os.environ[\"OPENAI_API_HOST\"] = \"http://localhost:8100\"\n",
    "\n",
    "import guidance\n",
    "\n",
    "# set the default language model used to execute guidance programs\n",
    "guidance.llm = guidance.llms.OpenAI(\"text-davinci-003\", caching=False)\n",
    "\n",
    "# define a guidance program that adapts a proverb\n",
    "program = guidance(\n",
    "    \"\"\"Tweak this proverb to apply to model instructions instead.\n",
    "\n",
    "{{proverb}}\n",
    "- {{book}} {{chapter}}:{{verse}}\n",
    "\n",
    "UPDATED\n",
    "Where there is no guidance{{gen 'rewrite' stop=\"\\\\n-\"}}\n",
    "- GPT {{gen 'chapter'}}:{{gen 'verse'}}\"\"\"\n",
    ")\n",
    "\n",
    "# execute the program on a specific proverb\n",
    "executed_program = program(\n",
    "    proverb=\"Where there is no guidance, a people falls,\\nbut in an abundance of counselors there is safety.\",\n",
    "    book=\"Proverbs\",\n",
    "    chapter=11,\n",
    "    verse=14,\n",
    ")"
   ]
  }
 ],
 "metadata": {
  "kernelspec": {
   "display_name": "llm-env",
   "language": "python",
   "name": "python3"
  },
  "language_info": {
   "codemirror_mode": {
    "name": "ipython",
    "version": 3
   },
   "file_extension": ".py",
   "mimetype": "text/x-python",
   "name": "python",
   "nbconvert_exporter": "python",
   "pygments_lexer": "ipython3",
   "version": "3.10.12"
  }
 },
 "nbformat": 4,
 "nbformat_minor": 2
}
