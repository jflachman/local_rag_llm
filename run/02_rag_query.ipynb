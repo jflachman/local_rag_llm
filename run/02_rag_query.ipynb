{
 "cells": [
  {
   "cell_type": "markdown",
   "metadata": {},
   "source": [
    "# Perform the RAG Query / Response\n",
    "\n",
    "- Use Hardcoded query from user\n",
    "- Query ChromaDB for closest matches\n",
    "- Define RAG prompt\n",
    "- Submit to LLM\n",
    "- Print Response"
   ]
  },
  {
   "cell_type": "code",
   "execution_count": 12,
   "metadata": {},
   "outputs": [],
   "source": [
    "import os, re\n",
    "import chromadb\n",
    "from langchain.prompts import ChatPromptTemplate"
   ]
  },
  {
   "cell_type": "markdown",
   "metadata": {},
   "source": [
    "Import project config and functions"
   ]
  },
  {
   "cell_type": "code",
   "execution_count": 13,
   "metadata": {},
   "outputs": [
    {
     "data": {
      "text/plain": [
       "'/mnt/c/ML/DU/local_rag_llm/run/pkgs'"
      ]
     },
     "execution_count": 13,
     "metadata": {},
     "output_type": "execute_result"
    }
   ],
   "source": [
    "from dotenv import load_dotenv\n",
    "\n",
    "import os # Importing os module for operating system functionalities\n",
    "#import shutil # Importing shutil module for high-level file operations\n",
    "\n",
    "import sys\n",
    "import importlib\n",
    "load_dotenv()\n",
    "\n",
    "# ************************************************\n",
    "# *** Add PACKAGE_PATH to your .env file with full\n",
    "# ***   path to your local_rag_llm/run/pkgs folder\n",
    "# ************************************************\n",
    "package_path = os.getenv('PACKAGE_PATH')\n",
    "# ************************************************\n",
    "\n",
    "#package_path = \"/mnt/c/ML/DU/local_rag_llm/run/pkgs\"\n",
    "sys.path.insert(1, package_path)\n",
    "import config\n",
    "import rag_functions\n",
    "\n",
    "package_path"
   ]
  },
  {
   "cell_type": "markdown",
   "metadata": {},
   "source": [
    "Define variables"
   ]
  },
  {
   "cell_type": "code",
   "execution_count": 14,
   "metadata": {},
   "outputs": [
    {
     "name": "stdout",
     "output_type": "stream",
     "text": [
      "Project_path: /mnt/c/ML/DU/local_rag_llm/\n",
      "Doc Folder: /mnt/c/ML/DU/local_rag_llm/data/aiml/\n",
      "Models path: /mnt/c/ML/DU/local_rag_llm/models/\n",
      "Loaded Docs file: /mnt/c/ML/DU/local_rag_llm/run/pkgs/loaded_files.pkl\n"
     ]
    }
   ],
   "source": [
    "# reload any changes to Config Settings\n",
    "importlib.reload(config)\n",
    "\n",
    "project_path = config.project_path\n",
    "print(f\"Project_path: {project_path}\")\n",
    "\n",
    "doc_folder = config.data_folder_aiml\n",
    "print(f\"Doc Folder: {doc_folder}\")\n",
    "\n",
    "models_path = config.models_path\n",
    "print(f\"Models path: {models_path}\")\n",
    "\n",
    "loaded_documents = project_path + \"run/pkgs/loaded_files.pkl\"\n",
    "print(f\"Loaded Docs file: {loaded_documents}\")"
   ]
  },
  {
   "cell_type": "markdown",
   "metadata": {},
   "source": [
    "### Create Embedding Function"
   ]
  },
  {
   "cell_type": "code",
   "execution_count": 15,
   "metadata": {},
   "outputs": [],
   "source": [
    "from chromadb.utils import embedding_functions\n",
    "\n",
    "# Use a different sentence transformer: all-mpnet-base-v2\n",
    "sentence_transformer_ef = embedding_functions.SentenceTransformerEmbeddingFunction(model_name=\"all-mpnet-base-v2\")"
   ]
  },
  {
   "cell_type": "code",
   "execution_count": 16,
   "metadata": {},
   "outputs": [],
   "source": [
    "# Create the embedding model\n",
    "from llama_index.embeddings.huggingface import HuggingFaceEmbedding\n",
    "from sentence_transformers import SentenceTransformer\n",
    "\n",
    "modelPath = \"/mnt/c/ML/DU/local_rag_llm/models/sentence-transformers/all-MiniLM-L6-v2\"\n",
    "model = SentenceTransformer('all-MiniLM-L6-v2')\n",
    "model.save(modelPath)\n",
    "\n",
    "embed_model = HuggingFaceEmbedding(\n",
    "    model_name=modelPath, max_length=512\n",
    ")"
   ]
  },
  {
   "cell_type": "markdown",
   "metadata": {},
   "source": [
    "### Setup ChromaDB"
   ]
  },
  {
   "cell_type": "code",
   "execution_count": 17,
   "metadata": {},
   "outputs": [
    {
     "name": "stdout",
     "output_type": "stream",
     "text": [
      "Collection Name: Gen_AI_knowledge\n"
     ]
    }
   ],
   "source": [
    "collection_name = config.collection_name\n",
    "\n",
    "print(f\"Collection Name: {collection_name}\")"
   ]
  },
  {
   "cell_type": "code",
   "execution_count": 18,
   "metadata": {},
   "outputs": [
    {
     "data": {
      "text/plain": [
       "[Collection(id=117f7132-8837-4bf2-9e3d-b7661f82bdb3, name=knowledge_base),\n",
       " Collection(id=19758326-4a87-46f9-9388-1d529131715d, name=Gen_AI_knowledge),\n",
       " Collection(id=588ec510-0b68-4c99-884d-5738768d1710, name=my_collection),\n",
       " Collection(id=dd394da5-2c20-4bce-8374-89a0ce611153, name=ML_doc_collection),\n",
       " Collection(id=f31f0737-b78e-46c9-86fd-efc4a56fffe9, name=local_kb)]"
      ]
     },
     "execution_count": 18,
     "metadata": {},
     "output_type": "execute_result"
    }
   ],
   "source": [
    "client = chromadb.HttpClient(host='localhost', port=8200)\n",
    "\n",
    "client.list_collections()"
   ]
  },
  {
   "cell_type": "code",
   "execution_count": 20,
   "metadata": {},
   "outputs": [],
   "source": [
    "chroma_collection = client.get_collection(\n",
    "                                                name=collection_name, \n",
    "                                                embedding_function=sentence_transformer_ef)"
   ]
  },
  {
   "cell_type": "code",
   "execution_count": 21,
   "metadata": {},
   "outputs": [
    {
     "data": {
      "text/plain": [
       "191"
      ]
     },
     "execution_count": 21,
     "metadata": {},
     "output_type": "execute_result"
    }
   ],
   "source": [
    "chroma_collection.count()"
   ]
  },
  {
   "cell_type": "markdown",
   "metadata": {},
   "source": [
    "### Test ChromaDB"
   ]
  },
  {
   "cell_type": "code",
   "execution_count": 22,
   "metadata": {},
   "outputs": [],
   "source": [
    "query_text = \"This is a query about machine learning and data science\""
   ]
  },
  {
   "cell_type": "code",
   "execution_count": 23,
   "metadata": {},
   "outputs": [
    {
     "data": {
      "text/plain": [
       "<module 'rag_functions' from '/mnt/c/ML/DU/local_rag_llm/run/pkgs/rag_functions.py'>"
      ]
     },
     "execution_count": 23,
     "metadata": {},
     "output_type": "execute_result"
    }
   ],
   "source": [
    "# reload any changes to rag_functions\n",
    "importlib.reload(rag_functions)"
   ]
  },
  {
   "cell_type": "code",
   "execution_count": 24,
   "metadata": {},
   "outputs": [
    {
     "name": "stdout",
     "output_type": "stream",
     "text": [
      "\n",
      "Dictionary: result\n",
      "  ids: [['5a73e662-503b-11ef-9594-b9cfb04757a0', '591cda0a-503b-11ef-9594-b9cfb04757a0', '5a73e661-503b-11ef-9594-b9cfb04757a0']]\n",
      "  distances: [[0.7612378597259521, 0.8413470387458801, 0.9075563549995422]]\n",
      "  embeddings: None\n",
      "  metadatas: [[{'author': 'Faisal Kalota', 'creationDate': \"D:20240219111535+02'00'\", 'creator': 'LaTeX with hyperref', 'file_path': '/mnt/c/ML/DU/local_rag_llm/data/aiml/A Primer on Generative Artificial Intelligence.pdf', 'filename': 'A Primer on Generative Artificial Intelligence.pdf', 'format': 'PDF 1.7', 'keywords': 'artificial intelligence; AI; generative artificial intelligence; generative AI; GAI; GenAI; Gen-AI; ChatGPT; LLM; GPT; AI businesses; AI education; AI ethics; AI security', 'modDate': \"D:20240219102017+01'00'\", 'page': 4, 'producer': 'pdfTeX-1.40.25', 'source': '/mnt/c/ML/DU/local_rag_llm/data/aiml/A Primer on Generative Artificial Intelligence.pdf', 'subject': 'Many educators and professionals in different industries may need to become more familiar with the basic concepts of artificial intelligence (AI) and generative artificial intelligence (Gen-AI). Therefore, this paper aims to introduce some of the basic concepts of AI and Gen-AI. The approach of this explanatory paper is first to introduce some of the underlying concepts, such as artificial intelligence, machine learning, deep learning, artificial neural networks, and large language models (LLMs), that would allow the reader to better understand generative AI. The paper also discusses some of the applications and implications of generative AI on businesses and education, followed by the current challenges associated with generative AI.', 'title': 'A Primer on Generative Artificial Intelligence', 'total_pages': 15, 'trapped': ''}, {'author': 'Faisal Kalota', 'creationDate': \"D:20240219111535+02'00'\", 'creator': 'LaTeX with hyperref', 'file_path': '/mnt/c/ML/DU/local_rag_llm/data/aiml/A Primer on Generative Artificial Intelligence.pdf', 'filename': 'A Primer on Generative Artificial Intelligence.pdf', 'format': 'PDF 1.7', 'keywords': 'artificial intelligence; AI; generative artificial intelligence; generative AI; GAI; GenAI; Gen-AI; ChatGPT; LLM; GPT; AI businesses; AI education; AI ethics; AI security', 'modDate': \"D:20240219102017+01'00'\", 'page': 3, 'producer': 'pdfTeX-1.40.25', 'source': '/mnt/c/ML/DU/local_rag_llm/data/aiml/A Primer on Generative Artificial Intelligence.pdf', 'subject': 'Many educators and professionals in different industries may need to become more familiar with the basic concepts of artificial intelligence (AI) and generative artificial intelligence (Gen-AI). Therefore, this paper aims to introduce some of the basic concepts of AI and Gen-AI. The approach of this explanatory paper is first to introduce some of the underlying concepts, such as artificial intelligence, machine learning, deep learning, artificial neural networks, and large language models (LLMs), that would allow the reader to better understand generative AI. The paper also discusses some of the applications and implications of generative AI on businesses and education, followed by the current challenges associated with generative AI.', 'title': 'A Primer on Generative Artificial Intelligence', 'total_pages': 15, 'trapped': ''}, {'author': 'Faisal Kalota', 'creationDate': \"D:20240219111535+02'00'\", 'creator': 'LaTeX with hyperref', 'file_path': '/mnt/c/ML/DU/local_rag_llm/data/aiml/A Primer on Generative Artificial Intelligence.pdf', 'filename': 'A Primer on Generative Artificial Intelligence.pdf', 'format': 'PDF 1.7', 'keywords': 'artificial intelligence; AI; generative artificial intelligence; generative AI; GAI; GenAI; Gen-AI; ChatGPT; LLM; GPT; AI businesses; AI education; AI ethics; AI security', 'modDate': \"D:20240219102017+01'00'\", 'page': 3, 'producer': 'pdfTeX-1.40.25', 'source': '/mnt/c/ML/DU/local_rag_llm/data/aiml/A Primer on Generative Artificial Intelligence.pdf', 'subject': 'Many educators and professionals in different industries may need to become more familiar with the basic concepts of artificial intelligence (AI) and generative artificial intelligence (Gen-AI). Therefore, this paper aims to introduce some of the basic concepts of AI and Gen-AI. The approach of this explanatory paper is first to introduce some of the underlying concepts, such as artificial intelligence, machine learning, deep learning, artificial neural networks, and large language models (LLMs), that would allow the reader to better understand generative AI. The paper also discusses some of the applications and implications of generative AI on businesses and education, followed by the current challenges associated with generative AI.', 'title': 'A Primer on Generative Artificial Intelligence', 'total_pages': 15, 'trapped': ''}]]\n",
      "  documents: [['Educ. Sci. 2024, 14, 172\\n5 of 15\\nTable 1. Differences between machine learning and deep learning.\\nMachine Learning\\nDeep Learning\\nRequires a relatively small amount of data for\\ntraining and prediction.\\nRequires large amounts of data for training\\nand prediction.\\nIt does not require extensive computational\\npower, and low-end central processing units\\n(CPUs) may be sufficient.\\nHigh-end computational power is required. A\\ngraphic processing unit (GPU) is needed.\\nThe time to train the model is relatively small.\\nThe time to train a model is relatively high.\\nSimple linear correlational models.\\nNon-linear complex correlational models.\\nThe output of machine learning algorithms is\\ngenerally a numerical value.\\nThe output is not limited to a single numeric\\nvalue but could be in different formats.\\nDeep learning is inspired by the human brain and utilizes artificial neural networks\\n(ANN). In order to understand deep learning, it is crucial to understand artificial neural', 'Educ. Sci. 2024, 14, 172\\n4 of 15\\nquently be labeled as automobiles. The machine learns from this data, and then the machine\\nis provided with a new data set. The goal of the machine is to identify automobiles in\\ndifferent images accurately. This identification of new images is based on various statistical\\nmethods, such as regression. Hence, in supervised learning, the outcome variable or target\\nvariable is known [5]. There are two main categories of algorithms in supervised machine\\nlearning: classification and regression. Classification contains a set of algorithms used\\nto identify a label or category for a given input and is used when the target variable is\\ncategorical. Regression is a set of techniques that are used for predicting an outcome or\\na relationship between one or more independent and dependent variables. Regression is\\ngenerally used when the target variable is continuous.\\n4.2. Unsupervised Machine Learning', 'Deep learning differs from machine learning in many aspects; for example, machine\\nlearning generally uses structured data but can also use unstructured data. However,\\nthe unstructured data must be pre-processed to convert it into a structured format for\\nmachine learning algorithms [9]. On the other hand, deep learning utilizes unstructured\\ndata without pre-processing. Some additional key differences between deep learning and\\nmachine learning are discussed in Table 1 [19,20].\\nEduc. Sci. 2024, 14, x FOR PEER REVIEW \\n5 of 16 \\n \\n \\nFigure 1. Relationship between AI, machine learning, deep learning, and ANN. \\nTable 1. Diﬀerences between machine learning and deep learning. \\nMachine Learning \\nDeep Learning \\nRequires a relatively small amount of data \\nfor training and prediction.  \\nRequires large amounts of data for training \\nand prediction. \\nFigure 1. Relationship between AI, machine learning, deep learning, and ANN.']]\n",
      "  uris: None\n",
      "  data: None\n",
      "  included: ['metadatas', 'documents', 'distances']\n",
      "\n",
      "List: metadata\n",
      "  0: {'author': 'Faisal Kalota', 'creationDate': \"D:20240219111535+02'00'\", 'creator': 'LaTeX with hyperref', 'file_path': '/mnt/c/ML/DU/local_rag_llm/data/aiml/A Primer on Generative Artificial Intelligence.pdf', 'filename': 'A Primer on Generative Artificial Intelligence.pdf', 'format': 'PDF 1.7', 'keywords': 'artificial intelligence; AI; generative artificial intelligence; generative AI; GAI; GenAI; Gen-AI; ChatGPT; LLM; GPT; AI businesses; AI education; AI ethics; AI security', 'modDate': \"D:20240219102017+01'00'\", 'page': 4, 'producer': 'pdfTeX-1.40.25', 'source': '/mnt/c/ML/DU/local_rag_llm/data/aiml/A Primer on Generative Artificial Intelligence.pdf', 'subject': 'Many educators and professionals in different industries may need to become more familiar with the basic concepts of artificial intelligence (AI) and generative artificial intelligence (Gen-AI). Therefore, this paper aims to introduce some of the basic concepts of AI and Gen-AI. The approach of this explanatory paper is first to introduce some of the underlying concepts, such as artificial intelligence, machine learning, deep learning, artificial neural networks, and large language models (LLMs), that would allow the reader to better understand generative AI. The paper also discusses some of the applications and implications of generative AI on businesses and education, followed by the current challenges associated with generative AI.', 'title': 'A Primer on Generative Artificial Intelligence', 'total_pages': 15, 'trapped': ''}\n",
      "  1: {'author': 'Faisal Kalota', 'creationDate': \"D:20240219111535+02'00'\", 'creator': 'LaTeX with hyperref', 'file_path': '/mnt/c/ML/DU/local_rag_llm/data/aiml/A Primer on Generative Artificial Intelligence.pdf', 'filename': 'A Primer on Generative Artificial Intelligence.pdf', 'format': 'PDF 1.7', 'keywords': 'artificial intelligence; AI; generative artificial intelligence; generative AI; GAI; GenAI; Gen-AI; ChatGPT; LLM; GPT; AI businesses; AI education; AI ethics; AI security', 'modDate': \"D:20240219102017+01'00'\", 'page': 3, 'producer': 'pdfTeX-1.40.25', 'source': '/mnt/c/ML/DU/local_rag_llm/data/aiml/A Primer on Generative Artificial Intelligence.pdf', 'subject': 'Many educators and professionals in different industries may need to become more familiar with the basic concepts of artificial intelligence (AI) and generative artificial intelligence (Gen-AI). Therefore, this paper aims to introduce some of the basic concepts of AI and Gen-AI. The approach of this explanatory paper is first to introduce some of the underlying concepts, such as artificial intelligence, machine learning, deep learning, artificial neural networks, and large language models (LLMs), that would allow the reader to better understand generative AI. The paper also discusses some of the applications and implications of generative AI on businesses and education, followed by the current challenges associated with generative AI.', 'title': 'A Primer on Generative Artificial Intelligence', 'total_pages': 15, 'trapped': ''}\n",
      "  2: {'author': 'Faisal Kalota', 'creationDate': \"D:20240219111535+02'00'\", 'creator': 'LaTeX with hyperref', 'file_path': '/mnt/c/ML/DU/local_rag_llm/data/aiml/A Primer on Generative Artificial Intelligence.pdf', 'filename': 'A Primer on Generative Artificial Intelligence.pdf', 'format': 'PDF 1.7', 'keywords': 'artificial intelligence; AI; generative artificial intelligence; generative AI; GAI; GenAI; Gen-AI; ChatGPT; LLM; GPT; AI businesses; AI education; AI ethics; AI security', 'modDate': \"D:20240219102017+01'00'\", 'page': 3, 'producer': 'pdfTeX-1.40.25', 'source': '/mnt/c/ML/DU/local_rag_llm/data/aiml/A Primer on Generative Artificial Intelligence.pdf', 'subject': 'Many educators and professionals in different industries may need to become more familiar with the basic concepts of artificial intelligence (AI) and generative artificial intelligence (Gen-AI). Therefore, this paper aims to introduce some of the basic concepts of AI and Gen-AI. The approach of this explanatory paper is first to introduce some of the underlying concepts, such as artificial intelligence, machine learning, deep learning, artificial neural networks, and large language models (LLMs), that would allow the reader to better understand generative AI. The paper also discusses some of the applications and implications of generative AI on businesses and education, followed by the current challenges associated with generative AI.', 'title': 'A Primer on Generative Artificial Intelligence', 'total_pages': 15, 'trapped': ''}\n"
     ]
    }
   ],
   "source": [
    "results = chroma_collection.query(\n",
    "    query_texts=[ query_text ],\n",
    "    n_results=3\n",
    ")\n",
    "\n",
    "rag_functions.print_dict(results, \"result\")\n",
    "\n",
    "rag_functions.print_list(results['metadatas'][0], \"metadata\")"
   ]
  },
  {
   "cell_type": "code",
   "execution_count": 25,
   "metadata": {},
   "outputs": [],
   "source": [
    "rag_score_test = rag_functions.check_distances(results['distances'], 0.7)\n",
    "\n",
    "# Test = True if test failed.\n",
    "if rag_score_test:\n",
    "    print(f\"Unable to find matching results.\")"
   ]
  },
  {
   "cell_type": "code",
   "execution_count": 26,
   "metadata": {},
   "outputs": [
    {
     "name": "stdout",
     "output_type": "stream",
     "text": [
      "Unique file names: ['A Primer on Generative Artificial Intelligence.pdf']\n"
     ]
    }
   ],
   "source": [
    "# Extract all filenames\n",
    "metadatas = results['metadatas']\n",
    "filenames = [metadata['filename'] for sublist in metadatas for metadata in sublist]\n",
    "unique_filenames = list(set(filenames))\n",
    "\n",
    "print(f\"Unique file names: {unique_filenames}\")"
   ]
  },
  {
   "cell_type": "code",
   "execution_count": 27,
   "metadata": {},
   "outputs": [
    {
     "name": "stdout",
     "output_type": "stream",
     "text": [
      "Educ. Sci. 2024, 14, 172\n",
      "5 of 15\n",
      "Table 1. Differences between machine learning and deep learning.\n",
      "Machine Learning\n",
      "Deep Learning\n",
      "Requires a relatively small amount of data for\n",
      "training and prediction.\n",
      "Requires large amounts of data for training\n",
      "and prediction.\n",
      "It does not require extensive computational\n",
      "power, and low-end central processing units\n",
      "(CPUs) may be sufficient.\n",
      "High-end computational power is required. A\n",
      "graphic processing unit (GPU) is needed.\n",
      "The time to train the model is relatively small.\n",
      "The time to train a model is relatively high.\n",
      "Simple linear correlational models.\n",
      "Non-linear complex correlational models.\n",
      "The output of machine learning algorithms is\n",
      "generally a numerical value.\n",
      "The output is not limited to a single numeric\n",
      "value but could be in different formats.\n",
      "Deep learning is inspired by the human brain and utilizes artificial neural networks\n",
      "(ANN). In order to understand deep learning, it is crucial to understand artificial neural\n",
      "\n",
      " - -\n",
      "\n",
      "Educ. Sci. 2024, 14, 172\n",
      "4 of 15\n",
      "quently be labeled as automobiles. The machine learns from this data, and then the machine\n",
      "is provided with a new data set. The goal of the machine is to identify automobiles in\n",
      "different images accurately. This identification of new images is based on various statistical\n",
      "methods, such as regression. Hence, in supervised learning, the outcome variable or target\n",
      "variable is known [5]. There are two main categories of algorithms in supervised machine\n",
      "learning: classification and regression. Classification contains a set of algorithms used\n",
      "to identify a label or category for a given input and is used when the target variable is\n",
      "categorical. Regression is a set of techniques that are used for predicting an outcome or\n",
      "a relationship between one or more independent and dependent variables. Regression is\n",
      "generally used when the target variable is continuous.\n",
      "4.2. Unsupervised Machine Learning\n",
      "\n",
      " - -\n",
      "\n",
      "Deep learning differs from machine learning in many aspects; for example, machine\n",
      "learning generally uses structured data but can also use unstructured data. However,\n",
      "the unstructured data must be pre-processed to convert it into a structured format for\n",
      "machine learning algorithms [9]. On the other hand, deep learning utilizes unstructured\n",
      "data without pre-processing. Some additional key differences between deep learning and\n",
      "machine learning are discussed in Table 1 [19,20].\n",
      "Educ. Sci. 2024, 14, x FOR PEER REVIEW \n",
      "5 of 16 \n",
      " \n",
      " \n",
      "Figure 1. Relationship between AI, machine learning, deep learning, and ANN. \n",
      "Table 1. Diﬀerences between machine learning and deep learning. \n",
      "Machine Learning \n",
      "Deep Learning \n",
      "Requires a relatively small amount of data \n",
      "for training and prediction.  \n",
      "Requires large amounts of data for training \n",
      "and prediction. \n",
      "Figure 1. Relationship between AI, machine learning, deep learning, and ANN.\n"
     ]
    }
   ],
   "source": [
    "# Clean and join the documents\n",
    "context_text = rag_functions.clean_and_join_doc_chunks(results['documents'])\n",
    "print(context_text)"
   ]
  },
  {
   "cell_type": "markdown",
   "metadata": {},
   "source": [
    "### Create Prompt and get response from LLM\n",
    "\n",
    "- Setup LLM\n",
    "- Create Prompts\n",
    "- Create Chain\n",
    "- Test\n",
    "\n",
    "Setup LLM"
   ]
  },
  {
   "cell_type": "code",
   "execution_count": 28,
   "metadata": {},
   "outputs": [
    {
     "name": "stdout",
     "output_type": "stream",
     "text": [
      "\n",
      "Dictionary: Models\n",
      "  nomic: nomic_embedding\n",
      "  llama2_7_chat: llama-2-7b-chat\n",
      "  llama3_8_ggml: llama3_8b_ggml\n",
      "  llama3_8_instruct: Llama-3-8b-Instruct\n",
      "  qwen2_05: Qwen2-0.5b-instruct\n"
     ]
    }
   ],
   "source": [
    "models = config.models\n",
    "\n",
    "rag_functions.print_dict(models, \"Models\")"
   ]
  },
  {
   "cell_type": "code",
   "execution_count": 30,
   "metadata": {},
   "outputs": [
    {
     "data": {
      "text/plain": [
       "'Qwen2-0.5b-instruct'"
      ]
     },
     "execution_count": 30,
     "metadata": {},
     "output_type": "execute_result"
    }
   ],
   "source": [
    "llm_temperature = 0.7\n",
    "llm_model = models['qwen2_05']\n",
    "llm_model"
   ]
  },
  {
   "cell_type": "code",
   "execution_count": 31,
   "metadata": {},
   "outputs": [],
   "source": [
    "from langchain_openai import ChatOpenAI\n",
    "\n",
    "chat_model = ChatOpenAI(\n",
    "    api_key     =\"sk-xxxxxxxxxxxxxxxxxxxxxxxxxxxxxxxxxxxxxxxx\",  # can be anything\n",
    "    base_url    =\"http://localhost:8100/v1\",  # NOTE: Replace with IP address and port of your llama-cpp-python server\n",
    "    model=llm_model, \n",
    "    temperature=llm_temperature,\n",
    "    max_tokens=None,\n",
    "    timeout=None,\n",
    "    max_retries=2\n",
    "    )"
   ]
  },
  {
   "cell_type": "markdown",
   "metadata": {},
   "source": [
    "Create Prompt\n",
    "\n",
    "- Uses Langchain.schema\n",
    "  - SystemChatMessage​\n",
    "    - A chat message representing information that should be instructions to the AI system.\n",
    "  - HumanChatMessage​\n",
    "    - A chat message representing information coming from a human interacting with the AI system.\n",
    "  - AIChatMessage​\n",
    "    - A chat message representing information coming from the AI system."
   ]
  },
  {
   "cell_type": "code",
   "execution_count": 32,
   "metadata": {},
   "outputs": [],
   "source": [
    "# # Define the system prompt\n",
    "# system_prompt = (\n",
    "#     \"Use the given context to answer the question. \"\n",
    "#     \"If you don't know the answer, say you don't know. \"\n",
    "#     \"Use three sentence maximum and keep the answer concise. \"\n",
    "#     \"Context: {context}\"\n",
    "# )"
   ]
  },
  {
   "cell_type": "code",
   "execution_count": 33,
   "metadata": {},
   "outputs": [],
   "source": [
    "query = \"Tell me about machine learning and data science\""
   ]
  },
  {
   "cell_type": "code",
   "execution_count": 34,
   "metadata": {},
   "outputs": [],
   "source": [
    "# Define your system prompt, context, and question\n",
    "system_prompt = (\n",
    "    \"Use the given context to answer the question. \"\n",
    "    \"If you don't know the answer, say you don't know. \"\n",
    "    \"Use three sentences maximum and keep the answer concise.\"\n",
    ")\n",
    "additional_system_prompt = \"This is an additional system prompt to guide the assistant's behavior.\"\n",
    "context = context_text\n",
    "question = query"
   ]
  },
  {
   "cell_type": "code",
   "execution_count": 35,
   "metadata": {},
   "outputs": [],
   "source": [
    "# Format the messages\n",
    "messages = [\n",
    "    {\"role\": \"system\", \"content\": system_prompt},\n",
    "#    {\"role\": \"system\", \"content\": additional_system_prompt},\n",
    "    {\"role\": \"system\", \"content\": f\"Context: {context}\"},\n",
    "    {\"role\": \"user\", \"content\": \"{question}\"}\n",
    "]"
   ]
  },
  {
   "cell_type": "code",
   "execution_count": 36,
   "metadata": {},
   "outputs": [
    {
     "data": {
      "text/plain": [
       "AIMessage(content='What is a type of protein? Answer: amino acid.', response_metadata={'token_usage': {'completion_tokens': 12, 'prompt_tokens': 49, 'total_tokens': 61}, 'model_name': 'Qwen2-0.5b-instruct', 'system_fingerprint': None, 'finish_reason': 'stop', 'logprobs': None}, id='run-856bc31a-f9c6-49c8-ad2e-3bf578f5bb4e-0', usage_metadata={'input_tokens': 49, 'output_tokens': 12, 'total_tokens': 61})"
      ]
     },
     "execution_count": 36,
     "metadata": {},
     "output_type": "execute_result"
    }
   ],
   "source": [
    "response = chat_model.invoke(messages)\n",
    "\n",
    "response"
   ]
  },
  {
   "cell_type": "code",
   "execution_count": 37,
   "metadata": {},
   "outputs": [
    {
     "name": "stdout",
     "output_type": "stream",
     "text": [
      "\n",
      "List: messages\n",
      "  0: content=\"Use the given context to answer the question. If you don't know the answer, say you don't know. Use three sentences maximum and keep the answer concise.\"\n",
      "  1: content='Tell me about machine learning and data science'\n"
     ]
    }
   ],
   "source": [
    "from langchain_core.prompts import ChatPromptTemplate\n",
    "\n",
    "template = ChatPromptTemplate([\n",
    "    (\"system\", system_prompt),\n",
    "    (\"human\", \"{question}\"),\n",
    "])\n",
    "\n",
    "prompt_value = template.invoke(\n",
    "    {\n",
    "        \"context\": context_text,\n",
    "        \"question\": query\n",
    "    }\n",
    ")\n",
    "\n",
    "rag_functions.print_list(prompt_value.messages, \"messages\")\n"
   ]
  },
  {
   "cell_type": "code",
   "execution_count": 38,
   "metadata": {},
   "outputs": [],
   "source": [
    "response_text = chat_model.invoke(prompt_value)"
   ]
  },
  {
   "cell_type": "code",
   "execution_count": 39,
   "metadata": {},
   "outputs": [
    {
     "data": {
      "text/plain": [
       "AIMessage(content='Machine learning involves using algorithms to analyze patterns in data without human intervention. Data science focuses on analyzing and interpreting data to find insights that can be used for prediction, forecasting, decision making, and other applications.', response_metadata={'token_usage': {'completion_tokens': 41, 'prompt_tokens': 54, 'total_tokens': 95}, 'model_name': 'Qwen2-0.5b-instruct', 'system_fingerprint': None, 'finish_reason': 'stop', 'logprobs': None}, id='run-76cec769-2621-475d-8926-df4eba7fc2e1-0', usage_metadata={'input_tokens': 54, 'output_tokens': 41, 'total_tokens': 95})"
      ]
     },
     "execution_count": 39,
     "metadata": {},
     "output_type": "execute_result"
    }
   ],
   "source": [
    "response_text"
   ]
  },
  {
   "cell_type": "code",
   "execution_count": 40,
   "metadata": {},
   "outputs": [],
   "source": [
    "from openai import OpenAI\n",
    "\n",
    "llm = OpenAI(base_url=\"http://localhost:8100/v1\", api_key=\"sk-xxx\")"
   ]
  },
  {
   "cell_type": "code",
   "execution_count": 41,
   "metadata": {},
   "outputs": [],
   "source": [
    "# Define your system prompt, context, and question\n",
    "system_prompt = (\n",
    "    \"Use the given context to answer the question. \"\n",
    "    \"If you don't know the answer, say you don't know. \"\n",
    "    \"Use three sentences maximum and keep the answer concise.\"\n",
    ")\n",
    "additional_system_prompt = \"This is an additional system prompt to guide the assistant's behavior.\"\n",
    "context = \"Your context here\"\n",
    "question = \"This is a query about machine learning and data science\""
   ]
  },
  {
   "cell_type": "code",
   "execution_count": 45,
   "metadata": {},
   "outputs": [],
   "source": [
    "question = \"Tell me about machine learning and data science\""
   ]
  },
  {
   "cell_type": "code",
   "execution_count": 46,
   "metadata": {},
   "outputs": [],
   "source": [
    "# Format the messages\n",
    "messages = [\n",
    "    {\"role\": \"system\", \"content\": system_prompt},\n",
    "#    {\"role\": \"system\", \"content\": additional_system_prompt},\n",
    "    {\"role\": \"system\", \"content\": f\"Context: {context}\"},\n",
    "    {\"role\": \"user\", \"content\": question}\n",
    "]"
   ]
  },
  {
   "cell_type": "code",
   "execution_count": 47,
   "metadata": {},
   "outputs": [
    {
     "name": "stdout",
     "output_type": "stream",
     "text": [
      "Machine learning is a branch of computer science that involves developing algorithms using data that can learn patterns in the data to make predictions or decisions. Data science, on the other hand, focuses on understanding how data behaves, analyzing it for insights, and using these insights to improve business decision making."
     ]
    }
   ],
   "source": [
    "#query = input()\n",
    "query = \"Tell me about machine learning and data science\"\n",
    "\n",
    "stream = llm.chat.completions.create(\n",
    "    model=\"qwen-0_5b-instruct-q5_k_m\",\n",
    "    messages = messages,\n",
    "    temperature = 0.7,\n",
    "    stream=True,\n",
    ")\n",
    "\n",
    "for chunk in stream:\n",
    "    if chunk.choices[0].delta.content is not None:\n",
    "        print(chunk.choices[0].delta.content, end=\"\")"
   ]
  },
  {
   "cell_type": "code",
   "execution_count": 48,
   "metadata": {},
   "outputs": [],
   "source": [
    "response = llm.chat.completions.create(\n",
    "    model=\"qwen-0_5b-instruct-q5_k_m\",\n",
    "    messages = messages,\n",
    "    temperature = 0.7,\n",
    "    stream=False,\n",
    ")"
   ]
  },
  {
   "cell_type": "code",
   "execution_count": 55,
   "metadata": {},
   "outputs": [
    {
     "data": {
      "text/plain": [
       "ChatCompletion(id='chatcmpl-e9688f0a-583a-407a-96b1-6e8b6dba5ed1', choices=[Choice(finish_reason='stop', index=0, logprobs=None, message=ChatCompletionMessage(content='Machine learning is the study of computers that can learn without being explicitly programmed; it includes everything from statistical models to neural networks and machine learning algorithms. Data science, on the other hand, refers to the analysis and interpretation of large sets of data, particularly in fields such as finance, healthcare, and natural language processing.', role='assistant', function_call=None, tool_calls=None))], created=1722556139, model='qwen-0_5b-instruct-q5_k_m', object='chat.completion', service_tier=None, system_fingerprint=None, usage=CompletionUsage(completion_tokens=63, prompt_tokens=54, total_tokens=117))"
      ]
     },
     "execution_count": 55,
     "metadata": {},
     "output_type": "execute_result"
    }
   ],
   "source": [
    "response"
   ]
  },
  {
   "cell_type": "code",
   "execution_count": 70,
   "metadata": {},
   "outputs": [
    {
     "data": {
      "text/plain": [
       "'Machine learning is the study of computers that can learn without being explicitly programmed; it includes everything from statistical models to neural networks and machine learning algorithms. Data science, on the other hand, refers to the analysis and interpretation of large sets of data, particularly in fields such as finance, healthcare, and natural language processing.'"
      ]
     },
     "execution_count": 70,
     "metadata": {},
     "output_type": "execute_result"
    }
   ],
   "source": [
    "response_text = response.choices[0].message.content\n",
    "\n",
    "response_text"
   ]
  },
  {
   "cell_type": "code",
   "execution_count": 69,
   "metadata": {},
   "outputs": [],
   "source": [
    "response_text: {  \"editor.wordWrap\": \"on\"}"
   ]
  }
 ],
 "metadata": {
  "kernelspec": {
   "display_name": "llm-env",
   "language": "python",
   "name": "python3"
  },
  "language_info": {
   "codemirror_mode": {
    "name": "ipython",
    "version": 3
   },
   "file_extension": ".py",
   "mimetype": "text/x-python",
   "name": "python",
   "nbconvert_exporter": "python",
   "pygments_lexer": "ipython3",
   "version": "3.10.12"
  }
 },
 "nbformat": 4,
 "nbformat_minor": 2
}
