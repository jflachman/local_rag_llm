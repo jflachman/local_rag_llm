{
 "cells": [
  {
   "cell_type": "markdown",
   "metadata": {},
   "source": [
    "# Ptototype:  import documents into knowledge base\n",
    "\n",
    "- startup jupyter docker container\n",
    "  - ``\n",
    "- install necessary libraries: pip install -r requirements-scypy.txt\n"
   ]
  },
  {
   "cell_type": "code",
   "execution_count": null,
   "metadata": {},
   "outputs": [],
   "source": [
    "from llama_index import VectorStoreIndex,SimpleDirectoryReader\n",
    "documents=SimpleDirectoryReader(\"data\").load_data()\n",
    "\n",
    "data_directory = \"../data\"\n"
   ]
  },
  {
   "cell_type": "code",
   "execution_count": null,
   "metadata": {},
   "outputs": [],
   "source": [
    "# Create a new VectorStoreIndex from the documents\n",
    "\n",
    "index = vector_store.create_index(name=\"document_index\", vector_size=768)\n",
    "\n",
    "\n",
    "\n"
   ]
  }
 ],
 "metadata": {
  "language_info": {
   "name": "python"
  }
 },
 "nbformat": 4,
 "nbformat_minor": 2
}
