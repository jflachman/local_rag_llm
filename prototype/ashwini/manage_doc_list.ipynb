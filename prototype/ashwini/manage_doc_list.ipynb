{
 "cells": [
  {
   "cell_type": "code",
   "execution_count": 2,
   "metadata": {},
   "outputs": [],
   "source": [
    "import os\n",
    "import pickle\n",
    "from langchain.llms import OpenAI\n",
    "from langchain.document_loaders import TextLoader\n",
    "from langchain.document_loaders import PyPDFLoader\n",
    "from langchain.indexes import VectorstoreIndexCreator"
   ]
  },
  {
   "cell_type": "code",
   "execution_count": 3,
   "metadata": {},
   "outputs": [],
   "source": [
    "Data_path = '/mnt/c/ML/DU/local_rag_llm/data/'"
   ]
  },
  {
   "cell_type": "code",
   "execution_count": 4,
   "metadata": {},
   "outputs": [
    {
     "data": {
      "text/plain": [
       "'/mnt/c/ML/DU/local_rag_llm/data/loaded_files.pkl'"
      ]
     },
     "execution_count": 4,
     "metadata": {},
     "output_type": "execute_result"
    }
   ],
   "source": [
    "file_list = {}\n",
    "file_list_pkl = Data_path + 'loaded_files.pkl'\n",
    "\n",
    "file_list_pkl"
   ]
  },
  {
   "cell_type": "code",
   "execution_count": 5,
   "metadata": {},
   "outputs": [],
   "source": [
    "# \n",
    "def load_imported_docs (file_list_pkl):\n",
    "\n",
    "    if os.path.exists(file_list_pkl):\n",
    "        print(f\"The file {file_list_pkl} exists.\")\n",
    "        # Load Import Docs DB\n",
    "        with open(file_list_pkl, 'rb') as file: imported_docs = pickle.load(file)\n",
    "    else:\n",
    "        print(f\"The file {file_list_pkl} does not exist.\")\n",
    "        imported_docs = {}\n",
    "        \n",
    "    return imported_docs\n",
    "\n",
    "def write_imported_docs(imported_docs, file_list_pkl):\n",
    "    with open(file_list_pkl, 'wb') as file: pickle.dump(imported_docs, file)"
   ]
  },
  {
   "cell_type": "code",
   "execution_count": 6,
   "metadata": {},
   "outputs": [],
   "source": [
    "def read_docs( directory, imported_docs ):\n",
    "    for root, dirs, files in os.walk(directory):\n",
    "        for file in files:\n",
    "            file_path = os.path.join(root, file)\n",
    "            if file.endswith(\".pdf\"):\n",
    "                print(f\"file: {file_path}\")\n",
    "                # Read PDF File into document object\n",
    "                loader = PyPDFLoader(file_path)\n",
    "                document = loader.load()\n",
    "                imported_docs[ 'file': {\n",
    "                    'file': file,\n",
    "                    'file_path': file_path,\n",
    "                    \"file_content\":  document\n",
    "                    }]\n",
    "                # content = read_pdf(file_path)\n",
    "                # document_loader = PyPDFDirectoryLoader(DATA_PATH) \n",
    "                # if content:\n",
    "                #     file_structure[file_path] = content\n",
    "                # else:\n",
    "                #     print(f\"No content found in {file_path}\")\n",
    "            if file.endswith(\".docx\"):\n",
    "                print(f\"I don't know how to handle word docs:  file: {file_path}\")\n",
    "                    \n",
    "    return imported_docs\n",
    "#    return file_structure\n",
    "    \n"
   ]
  },
  {
   "cell_type": "code",
   "execution_count": 7,
   "metadata": {},
   "outputs": [
    {
     "name": "stdout",
     "output_type": "stream",
     "text": [
      "The file /mnt/c/ML/DU/local_rag_llm/data/loaded_files.pkl does not exist.\n",
      "Imported Docs {}\n"
     ]
    },
    {
     "data": {
      "text/plain": [
       "{}"
      ]
     },
     "execution_count": 7,
     "metadata": {},
     "output_type": "execute_result"
    }
   ],
   "source": [
    "imported_docs = load_imported_docs ( file_list_pkl )\n",
    "print(f'Imported Docs {imported_docs}')\n",
    "\n",
    "read_docs(Data_path, imported_docs)"
   ]
  },
  {
   "cell_type": "code",
   "execution_count": 8,
   "metadata": {},
   "outputs": [
    {
     "ename": "FileNotFoundError",
     "evalue": "[Errno 2] No such file or directory: '/mnt/c/ML/DU/local_rag_llm/data/loaded_files.pkl'",
     "output_type": "error",
     "traceback": [
      "\u001b[0;31m---------------------------------------------------------------------------\u001b[0m",
      "\u001b[0;31mFileNotFoundError\u001b[0m                         Traceback (most recent call last)",
      "\u001b[0;32m/var/folders/z7/8qp96g0d3r3b0tsph5j2f5m80000gn/T/ipykernel_53379/3254505897.py\u001b[0m in \u001b[0;36m<module>\u001b[0;34m\u001b[0m\n\u001b[1;32m      2\u001b[0m \u001b[0;34m\u001b[0m\u001b[0m\n\u001b[1;32m      3\u001b[0m \u001b[0;31m# save imported docs list:\u001b[0m\u001b[0;34m\u001b[0m\u001b[0;34m\u001b[0m\u001b[0m\n\u001b[0;32m----> 4\u001b[0;31m \u001b[0mwrite_imported_docs\u001b[0m\u001b[0;34m(\u001b[0m\u001b[0mimported_docs\u001b[0m\u001b[0;34m,\u001b[0m \u001b[0mfile_list_pkl\u001b[0m\u001b[0;34m)\u001b[0m\u001b[0;34m\u001b[0m\u001b[0;34m\u001b[0m\u001b[0m\n\u001b[0m",
      "\u001b[0;32m/var/folders/z7/8qp96g0d3r3b0tsph5j2f5m80000gn/T/ipykernel_53379/584551772.py\u001b[0m in \u001b[0;36mwrite_imported_docs\u001b[0;34m(imported_docs, file_list_pkl)\u001b[0m\n\u001b[1;32m     13\u001b[0m \u001b[0;34m\u001b[0m\u001b[0m\n\u001b[1;32m     14\u001b[0m \u001b[0;32mdef\u001b[0m \u001b[0mwrite_imported_docs\u001b[0m\u001b[0;34m(\u001b[0m\u001b[0mimported_docs\u001b[0m\u001b[0;34m,\u001b[0m \u001b[0mfile_list_pkl\u001b[0m\u001b[0;34m)\u001b[0m\u001b[0;34m:\u001b[0m\u001b[0;34m\u001b[0m\u001b[0;34m\u001b[0m\u001b[0m\n\u001b[0;32m---> 15\u001b[0;31m     \u001b[0;32mwith\u001b[0m \u001b[0mopen\u001b[0m\u001b[0;34m(\u001b[0m\u001b[0mfile_list_pkl\u001b[0m\u001b[0;34m,\u001b[0m \u001b[0;34m'wb'\u001b[0m\u001b[0;34m)\u001b[0m \u001b[0;32mas\u001b[0m \u001b[0mfile\u001b[0m\u001b[0;34m:\u001b[0m \u001b[0mpickle\u001b[0m\u001b[0;34m.\u001b[0m\u001b[0mdump\u001b[0m\u001b[0;34m(\u001b[0m\u001b[0mimported_docs\u001b[0m\u001b[0;34m,\u001b[0m \u001b[0mfile\u001b[0m\u001b[0;34m)\u001b[0m\u001b[0;34m\u001b[0m\u001b[0;34m\u001b[0m\u001b[0m\n\u001b[0m",
      "\u001b[0;31mFileNotFoundError\u001b[0m: [Errno 2] No such file or directory: '/mnt/c/ML/DU/local_rag_llm/data/loaded_files.pkl'"
     ]
    }
   ],
   "source": [
    "# Chunk Docs with Splitter\n",
    "\n",
    "# save imported docs list:\n",
    "write_imported_docs(imported_docs, file_list_pkl)"
   ]
  }
 ],
 "metadata": {
  "kernelspec": {
   "display_name": "llm-env",
   "language": "python",
   "name": "python3"
  },
  "language_info": {
   "codemirror_mode": {
    "name": "ipython",
    "version": 3
   },
   "file_extension": ".py",
   "mimetype": "text/x-python",
   "name": "python",
   "nbconvert_exporter": "python",
   "pygments_lexer": "ipython3",
   "version": "3.10.13"
  }
 },
 "nbformat": 4,
 "nbformat_minor": 2
}
