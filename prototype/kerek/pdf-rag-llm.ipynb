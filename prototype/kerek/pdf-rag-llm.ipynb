{
 "cells": [
  {
   "cell_type": "code",
   "execution_count": 1,
   "metadata": {},
   "outputs": [],
   "source": [
    "import streamlit as st\n",
    "import os\n",
    "\n",
    "from langchain_groq import ChatGroq\n",
    "from langchain_community.embeddings import OllamaEmbeddings\n",
    "from langchain_community.vectorstores import FAISS\n",
    "from langchain_community.document_loaders import PyPDFLoader\n",
    "\n",
    "from langchain.text_splitter import RecursiveCharacterTextSplitter\n",
    "from langchain.chains.combine_documents import create_stuff_documents_chain\n",
    "from langchain.chains import create_retrieval_chain\n",
    "\n",
    "from langchain_core.prompts import ChatPromptTemplate"
   ]
  },
  {
   "cell_type": "code",
   "execution_count": 2,
   "metadata": {},
   "outputs": [
    {
     "name": "stderr",
     "output_type": "stream",
     "text": [
      "2024-07-25 21:29:13.771 WARNING streamlit.runtime.state.session_state_proxy: Session state does not function when running a script without `streamlit run`\n"
     ]
    }
   ],
   "source": [
    "#I need to initalize this. It connects to streamlit but doesn't work. \n",
    "\n",
    "#Not sure if I need this tbh\n",
    "if 'key' not in st.session_state:\n",
    "\n",
    "    st.session_state['key'] = 'value'"
   ]
  },
  {
   "cell_type": "code",
   "execution_count": 3,
   "metadata": {},
   "outputs": [
    {
     "name": "stderr",
     "output_type": "stream",
     "text": [
      "2024-07-25 21:29:32.408 \n",
      "  \u001b[33m\u001b[1mWarning:\u001b[0m to view this Streamlit app on a browser, run it with the following\n",
      "  command:\n",
      "\n",
      "    streamlit run c:\\Users\\kerek\\anaconda3\\Lib\\site-packages\\ipykernel_launcher.py [ARGUMENTS]\n"
     ]
    }
   ],
   "source": [
    "## Groq api key\n",
    "groq_api_key = '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'\n",
    "\n",
    "st.title(\"GROQ with Llama3\")\n",
    "\n",
    "llm = ChatGroq(groq_api_key = groq_api_key,\n",
    "               model_name = \"Llama3-8b-8192\")"
   ]
  },
  {
   "cell_type": "code",
   "execution_count": 4,
   "metadata": {},
   "outputs": [],
   "source": [
    "prompt=ChatPromptTemplate.from_template(\n",
    "\"\"\"\n",
    "Answer the questions based on the provided context only.\n",
    "Please provide the most accurate response based on the question\n",
    "<context>\n",
    "{context}\n",
    "<context>\n",
    "Questions:{input}\n",
    "\n",
    "\"\"\"\n",
    ")\n"
   ]
  },
  {
   "cell_type": "code",
   "execution_count": 5,
   "metadata": {},
   "outputs": [],
   "source": [
    "def vector_embedding():\n",
    "\n",
    "    if \"vectors\" not in st.session_state:    \n",
    "        st.session_state.embeddings = OllamaEmbeddings()\n",
    "        st.session_state.loader = PyPDFLoader(\"Traditional System of Medicine.pdf\")\n",
    "        st.session_state.docs = st.session_state.loader.load()\n",
    "        st.session_state.final_documents = RecursiveCharacterTextSplitter(chunk_size=1000,chunk_overlap=200).split_documents(st.session_state.docs[:10])\n",
    "        st.session_state.vectors = FAISS.from_documents(st.session_state.final_documents,st.session_state.embeddings) "
   ]
  },
  {
   "cell_type": "code",
   "execution_count": 6,
   "metadata": {},
   "outputs": [],
   "source": [
    "prompt1=st.text_input(\"Input your question here\")"
   ]
  },
  {
   "cell_type": "code",
   "execution_count": 7,
   "metadata": {},
   "outputs": [],
   "source": [
    "if st.button(\"Documents Embedding\"):\n",
    "    vector_embedding()\n",
    "    st.write(\"Vector DB is ready\")"
   ]
  },
  {
   "cell_type": "code",
   "execution_count": 15,
   "metadata": {},
   "outputs": [
    {
     "ename": "NameError",
     "evalue": "name 'document_chain' is not defined",
     "output_type": "error",
     "traceback": [
      "\u001b[1;31m---------------------------------------------------------------------------\u001b[0m",
      "\u001b[1;31mNameError\u001b[0m                                 Traceback (most recent call last)",
      "Cell \u001b[1;32mIn[15], line 19\u001b[0m\n\u001b[0;32m     16\u001b[0m             st\u001b[38;5;241m.\u001b[39mwrite(doc\u001b[38;5;241m.\u001b[39mpage_content)\n\u001b[0;32m     17\u001b[0m             st\u001b[38;5;241m.\u001b[39mwrite(\u001b[38;5;124m\"\u001b[39m\u001b[38;5;124m--------------------------------\u001b[39m\u001b[38;5;124m\"\u001b[39m)\n\u001b[1;32m---> 19\u001b[0m \u001b[38;5;28mprint\u001b[39m(document_chain)\n",
      "\u001b[1;31mNameError\u001b[0m: name 'document_chain' is not defined"
     ]
    }
   ],
   "source": [
    "import time\n",
    "if prompt1:\n",
    "    start = time.process_time()\n",
    "    document_chain = create_stuff_documents_chain(llm,prompt) \n",
    "    retriever = st.session_state.vectors.as_retriever()\n",
    "    retrieval_chain = langchain.chains.retrieval.create_retrieval_chain(retriever,document_chain)\n",
    "    response = retrieval_chain.invoke({'input':prompt1})\n",
    "\n",
    "    print(\"Response Time :\" ,time.process_time()-start)\n",
    "    st.write(response['answer'])\n",
    "\n",
    "   # With a streamlit expander\n",
    "    with st.expander(\"Document Similarity Search\"):\n",
    "        # Find the relevant chunks\n",
    "        for i, doc in enumerate(response[\"context\"]):\n",
    "            st.write(doc.page_content)\n",
    "            st.write(\"--------------------------------\")\n",
    "\n",
    "print(document_chain)"
   ]
  }
 ],
 "metadata": {
  "kernelspec": {
   "display_name": "base",
   "language": "python",
   "name": "python3"
  },
  "language_info": {
   "codemirror_mode": {
    "name": "ipython",
    "version": 3
   },
   "file_extension": ".py",
   "mimetype": "text/x-python",
   "name": "python",
   "nbconvert_exporter": "python",
   "pygments_lexer": "ipython3",
   "version": "3.11.5"
  }
 },
 "nbformat": 4,
 "nbformat_minor": 2
}
