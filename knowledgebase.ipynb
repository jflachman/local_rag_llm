{
 "cells": [
  {
   "cell_type": "markdown",
   "metadata": {},
   "source": [
    "## Local LLM with Langchain\n",
    "\n",
    "Add to requirements.txt\n",
    "\n",
    "- langchain\n",
    "- duckduckgo-search\n",
    "- streamlit"
   ]
  },
  {
   "cell_type": "code",
   "execution_count": null,
   "metadata": {},
   "outputs": [],
   "source": [
    "# jupyter/scipy-notebook"
   ]
  },
  {
   "cell_type": "markdown",
   "metadata": {},
   "source": [
    "### Setup\n",
    "\n",
    "- start streamlit\n",
    "- start jupyter notebook (scipy)\n",
    "- start ollama\n",
    "- start chromadb\n"
   ]
  },
  {
   "cell_type": "markdown",
   "metadata": {},
   "source": []
  },
  {
   "cell_type": "markdown",
   "metadata": {},
   "source": [
    "### Chroma Client\n",
    " - See https://docs.trychroma.com/getting-started\n"
   ]
  },
  {
   "cell_type": "code",
   "execution_count": null,
   "metadata": {},
   "outputs": [],
   "source": [
    "import chromadb\n",
    "from chromadb.config import Settings\n",
    "\n",
    "chroma_client = chromadb.HttpClient(host=\"chroma\", port = 8000, settings=Settings(allow_reset=True, anonymized_telemetry=False))\n",
    "documents = [\n",
    "    \"Mars, often called the 'Red Planet', has captured the imagination of scientists and space enthusiasts alike.\",\n",
    "    \"The Hubble Space Telescope has provided us with breathtaking images of distant galaxies and nebulae.\",\n",
    "    \"The concept of a black hole, where gravity is so strong that nothing can escape it, was first theorized by Albert Einstein's theory of general relativity.\",\n",
    "    \"The Renaissance was a pivotal period in history that saw a flourishing of art, science, and culture in Europe.\",\n",
    "    \"The Industrial Revolution marked a significant shift in human society, leading to urbanization and technological advancements.\",\n",
    "    \"The ancient city of Rome was once the center of a powerful empire that spanned across three continents.\",\n",
    "    \"Dolphins are known for their high intelligence and social behavior, often displaying playful interactions with humans.\",\n",
    "    \"The chameleon is a remarkable creature that can change its skin color to blend into its surroundings or communicate with other chameleons.\",\n",
    "    \"The migration of monarch butterflies spans thousands of miles and involves multiple generations to complete.\",\n",
    "    \"Christopher Nolan's 'Inception' is a mind-bending movie that explores the boundaries of reality and dreams.\",\n",
    "    \"The 'Lord of the Rings' trilogy, directed by Peter Jackson, brought J.R.R. Tolkien's epic fantasy world to life on the big screen.\",\n",
    "    \"Pixar's 'Toy Story' was the first feature-length film entirely animated using computer-generated imagery (CGI).\",\n",
    "    \"Superman, known for his incredible strength and ability to fly, is one of the most iconic superheroes in comic book history.\",\n",
    "    \"Black Widow, portrayed by Scarlett Johansson, is a skilled spy and assassin in the Marvel Cinematic Universe.\",\n",
    "    \"The character of Iron Man, played by Robert Downey Jr., kickstarted the immensely successful Marvel movie franchise in 2008.\"\n",
    "]\n",
    "metadatas = [{'source': \"Space\"}, {'source': \"Space\"}, {'source': \"Space\"}, {'source': \"History\"}, {'source': \"History\"}, {'source': \"History\"}, {'source': \"Animals\"}, {'source': \"Animals\"}, {'source': \"Animals\"}, {'source': \"Movies\"}, {'source': \"Movies\"}, {'source': \"Movies\"}, {'source': \"Superheroes\"}, {'source': \"Superheroes\"}, {'source': \"Superheroes\"}]\n",
    "ids = [\"1\", \"2\", \"3\", \"4\", \"5\", \"6\", \"7\", \"8\", \"9\", \"10\", \"11\", \"12\", \"13\", \"14\", \"15\"]\n",
    "\n",
    "collection_status = False\n",
    "while collection_status != True:\n",
    "    try:\n",
    "        document_collection = chroma_client.get_or_create_collection(name=\"sample_collection\")\n",
    "        collection_status = True\n",
    "    except Exception as e:\n",
    "        pass\n",
    "\n",
    "document_collection.add(documents=documents, metadatas=metadatas, ids=ids)\n",
    "\n",
    "results = document_collection.query(query_texts=\"Give me some facts about space\", n_results=3)\n",
    "result_documents = results[\"documents\"][0]\n",
    "for doc in result_documents:\n",
    "    print(doc)"
   ]
  },
  {
   "cell_type": "code",
   "execution_count": null,
   "metadata": {},
   "outputs": [],
   "source": []
  }
 ],
 "metadata": {
  "language_info": {
   "name": "python"
  }
 },
 "nbformat": 4,
 "nbformat_minor": 2
}
