{
 "cells": [
  {
   "cell_type": "code",
   "execution_count": 39,
   "metadata": {},
   "outputs": [],
   "source": [
    "import os\n",
    "import pickle\n",
    "from langchain.llms import OpenAI\n",
    "from langchain.document_loaders import TextLoader\n",
    "from langchain.document_loaders import PyPDFLoader\n",
    "from langchain.indexes import VectorstoreIndexCreator"
   ]
  },
  {
   "cell_type": "code",
   "execution_count": 7,
   "metadata": {},
   "outputs": [],
   "source": [
    "Data_path = '/mnt/c/ML/DU/local_rag_llm/data/'"
   ]
  },
  {
   "cell_type": "code",
   "execution_count": 8,
   "metadata": {},
   "outputs": [
    {
     "data": {
      "text/plain": [
       "'/mnt/c/ML/DU/local_rag_llm/data/loaded_files.pkl'"
      ]
     },
     "execution_count": 8,
     "metadata": {},
     "output_type": "execute_result"
    }
   ],
   "source": [
    "file_list = {}\n",
    "file_list_pkl = Data_path + 'loaded_files.pkl'\n",
    "\n",
    "file_list_pkl"
   ]
  },
  {
   "cell_type": "code",
   "execution_count": 15,
   "metadata": {},
   "outputs": [],
   "source": [
    "# \n",
    "def load_imported_docs (file_list_pkl):\n",
    "\n",
    "    if os.path.exists(file_list_pkl):\n",
    "        print(f\"The file {file_list_pkl} exists.\")\n",
    "        # Load Import Docs DB\n",
    "        with open(file_list_pkl, 'rb') as file: imported_docs = pickle.load(file)\n",
    "    else:\n",
    "        print(f\"The file {file_list_pkl} does not exist.\")\n",
    "        imported_docs = {}\n",
    "        \n",
    "    return imported_docs\n",
    "\n",
    "def write_imported_docs(imported_docs, file_list_pkl):\n",
    "    with open(file_list_pkl, 'wb') as file: pickle.dump(imported_docs, file)"
   ]
  },
  {
   "cell_type": "code",
   "execution_count": 43,
   "metadata": {},
   "outputs": [],
   "source": [
    "def read_docs( directory, imported_docs ):\n",
    "    for root, dirs, files in os.walk(directory):\n",
    "        for file in files:\n",
    "            file_path = os.path.join(root, file)\n",
    "            if file.endswith(\".pdf\"):\n",
    "                print(f\"file: {file_path}\")\n",
    "                # Read PDF File into document object\n",
    "                loader = PyPDFLoader(file_path)\n",
    "                document = loader.load()\n",
    "                imported_docs[ 'file': {\n",
    "                    'file': file,\n",
    "                    'file_path': file_path,\n",
    "                    \"file_content\":  document\n",
    "                    }]\n",
    "                # content = read_pdf(file_path)\n",
    "                # document_loader = PyPDFDirectoryLoader(DATA_PATH) \n",
    "                # if content:\n",
    "                #     file_structure[file_path] = content\n",
    "                # else:\n",
    "                #     print(f\"No content found in {file_path}\")\n",
    "            if file.endswith(\".docx\"):\n",
    "                print(f\"I don't know how to handle word docs:  file: {file_path}\")\n",
    "                    \n",
    "    return imported_docs\n",
    "#    return file_structure\n",
    "    \n"
   ]
  },
  {
   "cell_type": "code",
   "execution_count": 44,
   "metadata": {},
   "outputs": [
    {
     "name": "stdout",
     "output_type": "stream",
     "text": [
      "The file /mnt/c/ML/DU/local_rag_llm/data/loaded_files.pkl does not exist.\n",
      "Imported Docs {}\n",
      "file: /mnt/c/ML/DU/local_rag_llm/data/GenAI In-Depth_ The Science and Capabilities of GenAI _ U-M Generative AI.pdf\n"
     ]
    },
    {
     "ename": "TypeError",
     "evalue": "unhashable type: 'slice'",
     "output_type": "error",
     "traceback": [
      "\u001b[0;31m---------------------------------------------------------------------------\u001b[0m",
      "\u001b[0;31mTypeError\u001b[0m                                 Traceback (most recent call last)",
      "Cell \u001b[0;32mIn[44], line 4\u001b[0m\n\u001b[1;32m      1\u001b[0m imported_docs \u001b[38;5;241m=\u001b[39m load_imported_docs ( file_list_pkl )\n\u001b[1;32m      2\u001b[0m \u001b[38;5;28mprint\u001b[39m(\u001b[38;5;124mf\u001b[39m\u001b[38;5;124m'\u001b[39m\u001b[38;5;124mImported Docs \u001b[39m\u001b[38;5;132;01m{\u001b[39;00mimported_docs\u001b[38;5;132;01m}\u001b[39;00m\u001b[38;5;124m'\u001b[39m)\n\u001b[0;32m----> 4\u001b[0m \u001b[43mread_docs\u001b[49m\u001b[43m(\u001b[49m\u001b[43mData_path\u001b[49m\u001b[43m,\u001b[49m\u001b[43m \u001b[49m\u001b[43mimported_docs\u001b[49m\u001b[43m)\u001b[49m\n",
      "Cell \u001b[0;32mIn[43], line 10\u001b[0m, in \u001b[0;36mread_docs\u001b[0;34m(directory, imported_docs)\u001b[0m\n\u001b[1;32m      8\u001b[0m     loader \u001b[38;5;241m=\u001b[39m PyPDFLoader(file_path)\n\u001b[1;32m      9\u001b[0m     document \u001b[38;5;241m=\u001b[39m loader\u001b[38;5;241m.\u001b[39mload()\n\u001b[0;32m---> 10\u001b[0m     \u001b[43mimported_docs\u001b[49m\u001b[43m[\u001b[49m\u001b[43m \u001b[49m\u001b[38;5;124;43m'\u001b[39;49m\u001b[38;5;124;43mfile\u001b[39;49m\u001b[38;5;124;43m'\u001b[39;49m\u001b[43m:\u001b[49m\u001b[43m \u001b[49m\u001b[43m{\u001b[49m\n\u001b[1;32m     11\u001b[0m \u001b[43m        \u001b[49m\u001b[38;5;124;43m'\u001b[39;49m\u001b[38;5;124;43mfile\u001b[39;49m\u001b[38;5;124;43m'\u001b[39;49m\u001b[43m:\u001b[49m\u001b[43m \u001b[49m\u001b[43mfile\u001b[49m\u001b[43m,\u001b[49m\n\u001b[1;32m     12\u001b[0m \u001b[43m        \u001b[49m\u001b[38;5;124;43m'\u001b[39;49m\u001b[38;5;124;43mfile_path\u001b[39;49m\u001b[38;5;124;43m'\u001b[39;49m\u001b[43m:\u001b[49m\u001b[43m \u001b[49m\u001b[43mfile_path\u001b[49m\u001b[43m,\u001b[49m\n\u001b[1;32m     13\u001b[0m \u001b[43m        \u001b[49m\u001b[38;5;124;43m\"\u001b[39;49m\u001b[38;5;124;43mfile_content\u001b[39;49m\u001b[38;5;124;43m\"\u001b[39;49m\u001b[43m:\u001b[49m\u001b[43m  \u001b[49m\u001b[43mdocument\u001b[49m\n\u001b[1;32m     14\u001b[0m \u001b[43m        \u001b[49m\u001b[43m}\u001b[49m\u001b[43m]\u001b[49m\n\u001b[1;32m     15\u001b[0m     \u001b[38;5;66;03m# content = read_pdf(file_path)\u001b[39;00m\n\u001b[1;32m     16\u001b[0m     \u001b[38;5;66;03m# document_loader = PyPDFDirectoryLoader(DATA_PATH) \u001b[39;00m\n\u001b[1;32m     17\u001b[0m     \u001b[38;5;66;03m# if content:\u001b[39;00m\n\u001b[1;32m     18\u001b[0m     \u001b[38;5;66;03m#     file_structure[file_path] = content\u001b[39;00m\n\u001b[1;32m     19\u001b[0m     \u001b[38;5;66;03m# else:\u001b[39;00m\n\u001b[1;32m     20\u001b[0m     \u001b[38;5;66;03m#     print(f\"No content found in {file_path}\")\u001b[39;00m\n\u001b[1;32m     21\u001b[0m \u001b[38;5;28;01mif\u001b[39;00m file\u001b[38;5;241m.\u001b[39mendswith(\u001b[38;5;124m\"\u001b[39m\u001b[38;5;124m.docx\u001b[39m\u001b[38;5;124m\"\u001b[39m):\n",
      "\u001b[0;31mTypeError\u001b[0m: unhashable type: 'slice'"
     ]
    }
   ],
   "source": [
    "imported_docs = load_imported_docs ( file_list_pkl )\n",
    "print(f'Imported Docs {imported_docs}')\n",
    "\n",
    "read_docs(Data_path, imported_docs)"
   ]
  },
  {
   "cell_type": "code",
   "execution_count": null,
   "metadata": {},
   "outputs": [],
   "source": [
    "# Chunk Docs with Splitter\n",
    "\n",
    "# save imported docs list:\n",
    "write_imported_docs(imported_docs, file_list_pkl)"
   ]
  }
 ],
 "metadata": {
  "kernelspec": {
   "display_name": "llm-env",
   "language": "python",
   "name": "python3"
  },
  "language_info": {
   "codemirror_mode": {
    "name": "ipython",
    "version": 3
   },
   "file_extension": ".py",
   "mimetype": "text/x-python",
   "name": "python",
   "nbconvert_exporter": "python",
   "pygments_lexer": "ipython3",
   "version": "3.10.12"
  }
 },
 "nbformat": 4,
 "nbformat_minor": 2
}
