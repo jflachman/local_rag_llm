{
 "cells": [
  {
   "cell_type": "code",
   "execution_count": 2,
   "metadata": {},
   "outputs": [
    {
     "name": "stderr",
     "output_type": "stream",
     "text": [
      "/Applications/anaconda3/envs/dev/lib/python3.10/site-packages/sentence_transformers/cross_encoder/CrossEncoder.py:11: TqdmExperimentalWarning: Using `tqdm.autonotebook.tqdm` in notebook mode. Use `tqdm.tqdm` instead to force console mode (e.g. in jupyter console)\n",
      "  from tqdm.autonotebook import tqdm, trange\n",
      "[nltk_data] Downloading package punkt to\n",
      "[nltk_data]     /Users/ashwinikumar/nltk_data...\n",
      "[nltk_data]   Package punkt is already up-to-date!\n"
     ]
    },
    {
     "data": {
      "text/plain": [
       "True"
      ]
     },
     "execution_count": 2,
     "metadata": {},
     "output_type": "execute_result"
    }
   ],
   "source": [
    "import nltk\n",
    "import fitz  # PyMuPDF\n",
    "import pandas as pd\n",
    "import uuid\n",
    "import pprint\n",
    "from sentence_transformers import SentenceTransformer\n",
    "from langchain import OpenAI\n",
    "import chromadb\n",
    "from chromadb import HttpClient\n",
    "from chromadb.config import Settings\n",
    "\n",
    "nltk.download('punkt')"
   ]
  },
  {
   "cell_type": "code",
   "execution_count": 3,
   "metadata": {},
   "outputs": [],
   "source": [
    "# Initialize ChromaDB client\n",
    "chroma_client = HttpClient(host='localhost', port=8200)  # Ensure this is the correct port for ChromaDB"
   ]
  },
  {
   "cell_type": "code",
   "execution_count": 4,
   "metadata": {},
   "outputs": [
    {
     "name": "stderr",
     "output_type": "stream",
     "text": [
      "/Applications/anaconda3/envs/dev/lib/python3.10/site-packages/huggingface_hub/file_download.py:1132: FutureWarning: `resume_download` is deprecated and will be removed in version 1.0.0. Downloads always resume when possible. If you want to force a new download, use `force_download=True`.\n",
      "  warnings.warn(\n"
     ]
    },
    {
     "ename": "",
     "evalue": "",
     "output_type": "error",
     "traceback": [
      "\u001b[1;31mThe Kernel crashed while executing code in the current cell or a previous cell. \n",
      "\u001b[1;31mPlease review the code in the cell(s) to identify a possible cause of the failure. \n",
      "\u001b[1;31mClick <a href='https://aka.ms/vscodeJupyterKernelCrash'>here</a> for more info. \n",
      "\u001b[1;31mView Jupyter <a href='command:jupyter.viewOutput'>log</a> for further details."
     ]
    }
   ],
   "source": [
    "# Initialize the sentence transformer model\n",
    "model = SentenceTransformer('all-mpnet-base-v2')"
   ]
  },
  {
   "cell_type": "code",
   "execution_count": null,
   "metadata": {},
   "outputs": [],
   "source": [
    "# Check if the collection exists, otherwise create it\n",
    "try:\n",
    "    collection = chroma_client.get_collection(name=\"pdf_chunks\")\n",
    "except Exception as e:\n",
    "    if 'does not exist' in str(e):\n",
    "        collection = chroma_client.create_collection(name=\"pdf_chunks\")\n",
    "    else:\n",
    "        raise e"
   ]
  },
  {
   "cell_type": "code",
   "execution_count": null,
   "metadata": {},
   "outputs": [],
   "source": [
    "# Function to read PDF and convert to text\n",
    "def read_pdf(file_path):\n",
    "    try:\n",
    "        with fitz.open(file_path) as pdf_document:\n",
    "            text = \"\"\n",
    "            for page_num in range(pdf_document.page_count):\n",
    "                page = pdf_document[page_num]\n",
    "                text += page.get_text()\n",
    "        return text\n",
    "    except Exception as e:\n",
    "        print(f\"Error reading {file_path}: {e}\")\n",
    "        return \"\""
   ]
  },
  {
   "cell_type": "code",
   "execution_count": null,
   "metadata": {},
   "outputs": [],
   "source": [
    "# Function to split text into sentences using nltk\n",
    "def split_text_into_sentences(text):\n",
    "    sentences = nltk.sent_tokenize(text)\n",
    "    return sentences"
   ]
  },
  {
   "cell_type": "code",
   "execution_count": null,
   "metadata": {},
   "outputs": [],
   "source": [
    "# Function to process text and index in ChromaDB\n",
    "def split_and_index_text(preprocessed_code, collection):\n",
    "    code_chunks = []\n",
    "    for index, row in preprocessed_code.iterrows():\n",
    "        sentences = row['lines']\n",
    "        for i, sentence in enumerate(sentences):\n",
    "            unique_id = str(uuid.uuid4())  # Generate a unique ID\n",
    "            chunk_data = {\n",
    "                \"id\": unique_id,\n",
    "                \"file_path\": row['file_path'],\n",
    "                \"chunk_start\": i,\n",
    "                \"chunk_end\": i + 1,\n",
    "                \"chunk_content\": sentence,\n",
    "            }\n",
    "            code_chunks.append(chunk_data)\n",
    "            \n",
    "            # Insert the chunk in ChromaDB\n",
    "            collection.add(ids=[unique_id], documents=[sentence])  # Pass only the content as string\n",
    "    return pd.DataFrame(code_chunks)"
   ]
  },
  {
   "cell_type": "code",
   "execution_count": null,
   "metadata": {},
   "outputs": [],
   "source": [
    "# Function to analyze PDF structure and preprocess\n",
    "def analyze_pdf_structure(directory):\n",
    "    file_structure = {}\n",
    "    for root, dirs, files in os.walk(directory):\n",
    "        for file in files:\n",
    "            if file.endswith(\".pdf\"):\n",
    "                file_path = os.path.join(root, file)\n",
    "                content = read_pdf(file_path)\n",
    "                if content:\n",
    "                    file_structure[file_path] = content\n",
    "                else:\n",
    "                    print(f\"No content found in {file_path}\")\n",
    "    return file_structure\n",
    "\n",
    "def load_and_preprocess(pdf_structure):\n",
    "    preprocessed_data = []\n",
    "    for file_path, content in pdf_structure.items():\n",
    "        sentences = split_text_into_sentences(content)\n",
    "        preprocessed_data.append({\n",
    "            \"file_path\": file_path,\n",
    "            \"lines\": sentences,\n",
    "            \"line_count\": len(sentences)\n",
    "        })\n",
    "    if preprocessed_data:\n",
    "        return pd.DataFrame(preprocessed_data)\n",
    "    else:\n",
    "        print(\"No data to preprocess\")\n",
    "        return None"
   ]
  },
  {
   "cell_type": "code",
   "execution_count": null,
   "metadata": {},
   "outputs": [],
   "source": [
    "# File path to the directory containing PDF files\n",
    "pdf_directory = \"/Users/ashwinikumar/AI_Bootcamp/Student_AI_repos/final_project/data\"\n",
    "pdf_structure = analyze_pdf_structure(pdf_directory)  # Uses pdf_directory\n",
    "\n",
    "# Debug statement to check pdf_structure\n",
    "print(f\"PDF Structure: {pdf_structure}\")\n",
    "\n",
    "preprocessed_pdf = load_and_preprocess(pdf_structure)\n",
    "\n",
    "# Debug statement to check preprocessed_pdf\n",
    "print(f\"Preprocessed PDF: {preprocessed_pdf}\")\n",
    "\n",
    "if preprocessed_pdf is not None:\n",
    "    pdf_chunks = chunk_code(preprocessed_pdf)\n",
    "    print(pdf_chunks.head())\n",
    "else:\n",
    "    print(\"Preprocessed PDF data is None\")\n",
    "\n",
    "pprint.pprint(pdf_chunks)"
   ]
  }
 ],
 "metadata": {
  "kernelspec": {
   "display_name": "dev",
   "language": "python",
   "name": "python3"
  },
  "language_info": {
   "codemirror_mode": {
    "name": "ipython",
    "version": 3
   },
   "file_extension": ".py",
   "mimetype": "text/x-python",
   "name": "python",
   "nbconvert_exporter": "python",
   "pygments_lexer": "ipython3",
   "version": "3.10.13"
  }
 },
 "nbformat": 4,
 "nbformat_minor": 2
}
