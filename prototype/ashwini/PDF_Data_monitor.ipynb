{
 "cells": [
  {
   "cell_type": "code",
   "execution_count": 5,
   "metadata": {},
   "outputs": [],
   "source": [
    "# Import Dependencies\n",
    "import os\n",
    "import time\n",
    "from watchdog.observers import Observer\n",
    "from watchdog.events import FileSystemEventHandler  # Import FileSystemEventHandler\n",
    "from PyPDF2 import PdfFileReader"
   ]
  },
  {
   "cell_type": "code",
   "execution_count": 8,
   "metadata": {},
   "outputs": [],
   "source": [
    "# Function to extract text from a PDF file\n",
    "def extract_text_from_pdf(pdf_file):\n",
    "    with open(pdf_file, 'rb') as f:\n",
    "        reader = PdfFileReader(f)\n",
    "        text = ''\n",
    "        for page_num in range(reader.numPages):\n",
    "            page = reader.getPage(page_num)\n",
    "            text += page.extract_text()\n",
    "        return text"
   ]
  },
  {
   "cell_type": "code",
   "execution_count": 9,
   "metadata": {},
   "outputs": [],
   "source": [
    "# Function to chunk text\n",
    "def chunk_text(text, chunk_size=500):\n",
    "    chunks = []\n",
    "    for i in range(0, len(text), chunk_size):\n",
    "        chunk = text[i:i + chunk_size]\n",
    "        chunks.append(chunk)\n",
    "    return chunks"
   ]
  },
  {
   "cell_type": "code",
   "execution_count": 10,
   "metadata": {},
   "outputs": [],
   "source": [
    "# Define a handler for file system events (new file creation)\n",
    "class NewFileHandler(FileSystemEventHandler):\n",
    "    def on_created(self, event):\n",
    "        if not event.is_directory and event.src_path.endswith('.pdf'):\n",
    "            process_new_pdf(event.src_path)"
   ]
  },
  {
   "cell_type": "code",
   "execution_count": 12,
   "metadata": {},
   "outputs": [],
   "source": [
    "# Function to process a new PDF file\n",
    "def process_new_pdf(pdf_file):\n",
    "    print(f\"Processing new PDF file: {pdf_file}\")\n",
    "    # Extract text from PDF\n",
    "    extracted_text = extract_text_from_pdf(pdf_file)\n",
    "    # Chunk the extracted text\n",
    "    text_chunks = chunk_text(extracted_text)\n",
    "    # Perform further processing (indexing, etc.)\n",
    "    # Example: Print chunks\n",
    "    for idx, chunk in enumerate(text_chunks):\n",
    "        print(f\"Chunk {idx + 1}: {chunk}\")\n",
    "    # Optionally, perform indexing tasks here"
   ]
  },
  {
   "cell_type": "code",
   "execution_count": 13,
   "metadata": {},
   "outputs": [],
   "source": [
    "# Main function to start monitoring\n",
    "def start_monitoring():\n",
    "    # Monitor the 'Data' folder for new files\n",
    "    path = 'path/to/your/Data/folder'\n",
    "    event_handler = NewFileHandler()\n",
    "    observer = Observer()\n",
    "    observer.schedule(event_handler, path, recursive=False)\n",
    "    observer.start()\n",
    "    print(f\"Monitoring folder '{path}' for new PDF files...\")\n",
    "\n",
    "    try:\n",
    "        while True:\n",
    "            time.sleep(1)\n",
    "    except KeyboardInterrupt:\n",
    "        observer.stop()\n",
    "    observer.join()\n"
   ]
  },
  {
   "cell_type": "code",
   "execution_count": 14,
   "metadata": {},
   "outputs": [
    {
     "name": "stdout",
     "output_type": "stream",
     "text": [
      "Monitoring folder 'path/to/your/Data/folder' for new PDF files...\n"
     ]
    }
   ],
   "source": [
    "# Start monitoring the 'Data' folder\n",
    "if __name__ == \"__main__\":\n",
    "    start_monitoring()"
   ]
  }
 ],
 "metadata": {
  "kernelspec": {
   "display_name": "dev",
   "language": "python",
   "name": "python3"
  },
  "language_info": {
   "codemirror_mode": {
    "name": "ipython",
    "version": 3
   },
   "file_extension": ".py",
   "mimetype": "text/x-python",
   "name": "python",
   "nbconvert_exporter": "python",
   "pygments_lexer": "ipython3",
   "version": "3.10.13"
  }
 },
 "nbformat": 4,
 "nbformat_minor": 2
}
