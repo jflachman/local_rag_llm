{
 "cells": [
  {
   "cell_type": "code",
   "execution_count": 2,
   "metadata": {},
   "outputs": [],
   "source": [
    "import os\n",
    "import json\n",
    "import hashlib\n",
    "from datetime import datetime\n",
    "from PyPDF2 import PdfFileReader\n",
    "#from langchain.embeddings import LlamaEmbeddings\n",
    "from langchain.text_splitter import RecursiveCharacterTextSplitter\n",
    "from langchain.vectorstores import Chroma\n",
    "from langchain.document_loaders import PyPDFLoader"
   ]
  },
  {
   "cell_type": "code",
   "execution_count": 3,
   "metadata": {},
   "outputs": [],
   "source": [
    "# Directory containing PDF files\n",
    "pdf_directory = '/mnt/c/ML/DU/local_rag_llm/data'\n",
    "metadata_file = 'processed_files_metadata.json'"
   ]
  },
  {
   "cell_type": "code",
   "execution_count": 4,
   "metadata": {},
   "outputs": [],
   "source": [
    "# Function to compute the hash of a file\n",
    "def compute_file_hash(filepath):\n",
    "    hasher = hashlib.md5()\n",
    "    with open(filepath, 'rb') as f:\n",
    "        buf = f.read()\n",
    "        hasher.update(buf)\n",
    "    return hasher.hexdigest()"
   ]
  },
  {
   "cell_type": "code",
   "execution_count": 5,
   "metadata": {},
   "outputs": [],
   "source": [
    "# Function to read and chunk new/updated PDFs\n",
    "def load_and_chunk_new_pdfs(directory, metadata_file):\n",
    "    if os.path.exists(metadata_file):\n",
    "        with open(metadata_file, 'r') as f:\n",
    "            metadata = json.load(f)\n",
    "    else:\n",
    "        metadata = {}\n",
    "\n",
    "    new_documents = []\n",
    "    for filename in os.listdir(directory):\n",
    "        if filename.endswith('.pdf'):\n",
    "            filepath = os.path.join(directory, filename)\n",
    "            file_hash = compute_file_hash(filepath)\n",
    "            last_modified = os.path.getmtime(filepath)\n",
    "            if filename not in metadata or metadata[filename]['hash'] != file_hash or metadata[filename]['last_modified'] != last_modified:\n",
    "                loader = PyPDFLoader(filepath)\n",
    "                new_documents.extend(loader.load())\n",
    "                metadata[filename] = {\n",
    "                    'hash': file_hash,\n",
    "                    'last_modified': last_modified\n",
    "                }\n",
    "\n",
    "    # Save updated metadata\n",
    "    with open(metadata_file, 'w') as f:\n",
    "        json.dump(metadata, f)\n",
    "\n",
    "    return new_documents"
   ]
  },
  {
   "cell_type": "code",
   "execution_count": 6,
   "metadata": {},
   "outputs": [],
   "source": [
    "# Perform semantic chunking on new/updated documents\n",
    "new_documents = load_and_chunk_new_pdfs(pdf_directory, metadata_file)\n",
    "text_splitter = RecursiveCharacterTextSplitter(chunk_size=512, chunk_overlap=50)\n",
    "new_chunks = text_splitter.split_documents(new_documents)"
   ]
  },
  {
   "cell_type": "code",
   "execution_count": null,
   "metadata": {},
   "outputs": [],
   "source": []
  },
  {
   "cell_type": "code",
   "execution_count": null,
   "metadata": {},
   "outputs": [],
   "source": []
  },
  {
   "cell_type": "code",
   "execution_count": null,
   "metadata": {},
   "outputs": [],
   "source": []
  }
 ],
 "metadata": {
  "kernelspec": {
   "display_name": "llm-env",
   "language": "python",
   "name": "python3"
  },
  "language_info": {
   "codemirror_mode": {
    "name": "ipython",
    "version": 3
   },
   "file_extension": ".py",
   "mimetype": "text/x-python",
   "name": "python",
   "nbconvert_exporter": "python",
   "pygments_lexer": "ipython3",
   "version": "3.10.12"
  }
 },
 "nbformat": 4,
 "nbformat_minor": 2
}
