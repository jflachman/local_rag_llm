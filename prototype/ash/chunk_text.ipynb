{
 "cells": [
  {
   "cell_type": "code",
   "execution_count": 1,
   "metadata": {},
   "outputs": [],
   "source": [
    "import os\n",
    "import pandas as pd\n"
   ]
  },
  {
   "cell_type": "code",
   "execution_count": 6,
   "metadata": {},
   "outputs": [
    {
     "name": "stdout",
     "output_type": "stream",
     "text": [
      "<function analyze_code_structure at 0x136b27f60>\n"
     ]
    }
   ],
   "source": [
    "#Understand the Data\n",
    "def analyze_code_structure(directory):\n",
    "    file_structure = {}\n",
    "    for root, dirs, files in os.walk(directory):\n",
    "        for file in files:\n",
    "            if file.endswith(\".py\"):\n",
    "                file_path = os.path.join(root, file)\n",
    "                with open(file_path, 'r') as f:\n",
    "                    content = f.read()\n",
    "                file_structure[file_path] = content\n",
    "    return file_structure\n",
    "print(analyze_code_structure)"
   ]
  },
  {
   "cell_type": "code",
   "execution_count": 7,
   "metadata": {},
   "outputs": [],
   "source": [
    "# Load and Preprocess\n",
    "def load_and_preprocess(code_structure):\n",
    "    preprocessed_data = []\n",
    "    for file_path, content in code_structure.items():\n",
    "        lines = content.split('\\n')\n",
    "        preprocessed_data.append({\n",
    "            \"file_path\": file_path,\n",
    "            \"lines\": lines,\n",
    "            \"line_count\": len(lines)\n",
    "        })\n",
    "    return pd.DataFrame(preprocessed_data)\n"
   ]
  },
  {
   "cell_type": "code",
   "execution_count": 8,
   "metadata": {},
   "outputs": [],
   "source": [
    "def chunk_code(preprocessed_code, chunk_size=50):\n",
    "    code_chunks = []\n",
    "    for index, row in preprocessed_code.iterrows():\n",
    "        lines = row['lines']\n",
    "        for i in range(0, len(lines), chunk_size):\n",
    "            chunk = lines[i:i + chunk_size]\n",
    "            code_chunks.append({\n",
    "                \"file_path\": row['file_path'],\n",
    "                \"chunk_start\": i,\n",
    "                \"chunk_end\": i + len(chunk),\n",
    "                \"chunk_content\": \"\\n\".join(chunk)\n",
    "            })\n",
    "    return pd.DataFrame(code_chunks)"
   ]
  },
  {
   "cell_type": "code",
   "execution_count": 9,
   "metadata": {},
   "outputs": [
    {
     "name": "stdout",
     "output_type": "stream",
     "text": [
      "Empty DataFrame\n",
      "Columns: []\n",
      "Index: []\n"
     ]
    }
   ],
   "source": [
    "# Example usage\n",
    "code_directory = \"path/to/your/code\"\n",
    "code_structure = analyze_code_structure(code_directory)\n",
    "preprocessed_code = load_and_preprocess(code_structure)\n",
    "code_chunks = chunk_code(preprocessed_code)\n",
    "\n",
    "print(code_chunks.head())"
   ]
  }
 ],
 "metadata": {
  "kernelspec": {
   "display_name": "Python 3",
   "language": "python",
   "name": "python3"
  },
  "language_info": {
   "codemirror_mode": {
    "name": "ipython",
    "version": 3
   },
   "file_extension": ".py",
   "mimetype": "text/x-python",
   "name": "python",
   "nbconvert_exporter": "python",
   "pygments_lexer": "ipython3",
   "version": "3.12.2"
  }
 },
 "nbformat": 4,
 "nbformat_minor": 2
}
