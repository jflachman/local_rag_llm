{
 "cells": [
  {
   "cell_type": "markdown",
   "metadata": {},
   "source": [
    "# Download models from Huggingface\n",
    "\n",
    "- download to model directory (/home/jovyan/work/path_to_project/local_rag_llm/models)\n",
    "- ln -s path_to_project/local_rag_llm rag_llm\n",
    "\n",
    "https://huggingface.co/docs/huggingface_hub/en/guides/download"
   ]
  },
  {
   "cell_type": "code",
   "execution_count": null,
   "metadata": {},
   "outputs": [],
   "source": [
    "# install huggingface hub\n",
    "#pip install --upgrade huggingface_hub"
   ]
  },
  {
   "cell_type": "markdown",
   "metadata": {},
   "source": [
    "### Sample download \n",
    "\n",
    "#### Download from the `v1.0` tag\n",
    "`hf_hub_download(repo_id=\"lysandre/arxiv-nlp\", filename=\"config.json\", revision=\"v1.0\")`\n",
    "\n",
    "#### Download from the `test-branch` branch\n",
    "`hf_hub_download(repo_id=\"lysandre/arxiv-nlp\", filename=\"config.json\", revision=\"test-branch\")`\n",
    "\n",
    "#### Download from Pull Request #3\n",
    "`hf_hub_download(repo_id=\"lysandre/arxiv-nlp\", filename=\"config.json\", revision=\"refs/pr/3\")`\n",
    "\n",
    "#### Download from a specific commit hash\n",
    "`hf_hub_download(repo_id=\"lysandre/arxiv-nlp\", filename=\"config.json\", revision=\"877b84a8f93f2d619faa2a6e514a32beef88ab0a\")`\n"
   ]
  },
  {
   "cell_type": "code",
   "execution_count": 5,
   "metadata": {},
   "outputs": [],
   "source": [
    "import os\n",
    "from huggingface_hub import hf_hub_download"
   ]
  },
  {
   "cell_type": "code",
   "execution_count": 11,
   "metadata": {},
   "outputs": [
    {
     "name": "stdout",
     "output_type": "stream",
     "text": [
      "/home/jovyan/work/repos/projects/final/local_rag_llm/models\n"
     ]
    }
   ],
   "source": [
    "# Change to model directory\n",
    "base_dir = '/home/jovyan/work/'\n",
    "project_dir = 'rag_llm/'\n",
    "\n",
    "os.chdir(base_dir + project_dir + 'models')\n",
    "\n",
    "!pwd\n",
    "!ls"
   ]
  },
  {
   "cell_type": "code",
   "execution_count": 12,
   "metadata": {},
   "outputs": [
    {
     "data": {
      "application/vnd.jupyter.widget-view+json": {
       "model_id": "58fd8b566bac4756a43246abf39cb226",
       "version_major": 2,
       "version_minor": 0
      },
      "text/plain": [
       "config.json:   0%|          | 0.00/554 [00:00<?, ?B/s]"
      ]
     },
     "metadata": {},
     "output_type": "display_data"
    },
    {
     "data": {
      "text/plain": [
       "'/home/jovyan/.cache/huggingface/hub/models--lysandre--arxiv-nlp/snapshots/c7a2e68263d13db10671379c23cf2a8ea0e12789/config.json'"
      ]
     },
     "execution_count": 12,
     "metadata": {},
     "output_type": "execute_result"
    }
   ],
   "source": [
    "\n",
    "\n",
    "\n",
    "hf_hub_download(repo_id=\"lysandre/arxiv-nlp\", filename=\"config.json\")"
   ]
  },
  {
   "cell_type": "code",
   "execution_count": 20,
   "metadata": {},
   "outputs": [
    {
     "name": "stdout",
     "output_type": "stream",
     "text": [
      "/home/jovyan/.cache/huggingface/hub/models--lysandre--arxiv-nlp/\n",
      "/home/jovyan/.cache/huggingface/hub/models--lysandre--arxiv-nlp/snapshots\n",
      "/home/jovyan/.cache/huggingface/hub/models--lysandre--arxiv-nlp/snapshots/c7a2e68263d13db10671379c23cf2a8ea0e12789\n",
      "/home/jovyan/.cache/huggingface/hub/models--lysandre--arxiv-nlp/snapshots/c7a2e68263d13db10671379c23cf2a8ea0e12789/config.json\n",
      "/home/jovyan/.cache/huggingface/hub/models--lysandre--arxiv-nlp/refs\n",
      "/home/jovyan/.cache/huggingface/hub/models--lysandre--arxiv-nlp/refs/main\n",
      "/home/jovyan/.cache/huggingface/hub/models--lysandre--arxiv-nlp/blobs\n",
      "/home/jovyan/.cache/huggingface/hub/models--lysandre--arxiv-nlp/blobs/2f9618c3a19b9a61add74f70bfb121335aeef666\n",
      "total 12\n",
      "drwxr-sr-x 2 jovyan users 4096 Jul 13 18:18 .\n",
      "drwxr-sr-x 5 jovyan users 4096 Jul 13 18:18 ..\n",
      "-rw-r--r-- 1 jovyan users  554 Jul 13 18:18 2f9618c3a19b9a61add74f70bfb121335aeef666\n"
     ]
    }
   ],
   "source": [
    "!find /home/jovyan/.cache/huggingface/hub/models--lysandre--arxiv-nlp/\n",
    "!ls -la /home/jovyan/.cache/huggingface/hub/models--lysandre--arxiv-nlp/blobs/"
   ]
  },
  {
   "cell_type": "code",
   "execution_count": 22,
   "metadata": {},
   "outputs": [
    {
     "ename": "SyntaxError",
     "evalue": "invalid decimal literal (371434387.py, line 1)",
     "output_type": "error",
     "traceback": [
      "\u001b[0;36m  Cell \u001b[0;32mIn[22], line 1\u001b[0;36m\u001b[0m\n\u001b[0;31m    huggingface-cli download Qwen/Qwen2-7B-Instruct-GGUF --local-dir . --local-dir-use-symlinks False\u001b[0m\n\u001b[0m                                        ^\u001b[0m\n\u001b[0;31mSyntaxError\u001b[0m\u001b[0;31m:\u001b[0m invalid decimal literal\n"
     ]
    }
   ],
   "source": [
    "huggingface-cli download Qwen/Qwen2-7B-Instruct-GGUF --local-dir . --local-dir-use-symlinks False\n",
    "# Qwen/Qwen2-7B-Instruct-GGUF qwen2-7b-instruct-q5_k_m.gguf "
   ]
  },
  {
   "cell_type": "code",
   "execution_count": 23,
   "metadata": {},
   "outputs": [
    {
     "ename": "SyntaxError",
     "evalue": "invalid decimal literal (977260882.py, line 1)",
     "output_type": "error",
     "traceback": [
      "\u001b[0;36m  Cell \u001b[0;32mIn[23], line 1\u001b[0;36m\u001b[0m\n\u001b[0;31m    huggingface-cli download Qwen/Qwen2-7B-Instruct-GGUF qwen2-7b-instruct-q5_k_m.gguf --local-dir . --local-dir-use-symlinks False\u001b[0m\n\u001b[0m                                        ^\u001b[0m\n\u001b[0;31mSyntaxError\u001b[0m\u001b[0;31m:\u001b[0m invalid decimal literal\n"
     ]
    }
   ],
   "source": [
    "huggingface-cli download Qwen/Qwen2-7B-Instruct-GGUF qwen2-7b-instruct-q5_k_m.gguf --local-dir . --local-dir-use-symlinks False"
   ]
  },
  {
   "cell_type": "code",
   "execution_count": 27,
   "metadata": {},
   "outputs": [
    {
     "ename": "SyntaxError",
     "evalue": "invalid decimal literal (721557819.py, line 3)",
     "output_type": "error",
     "traceback": [
      "\u001b[0;36m  Cell \u001b[0;32mIn[27], line 3\u001b[0;36m\u001b[0m\n\u001b[0;31m    https://huggingface.co/Qwen/Qwen2-7B-Instruct-GGUF/resolve/main/README.md\u001b[0m\n\u001b[0m                                      ^\u001b[0m\n\u001b[0;31mSyntaxError\u001b[0m\u001b[0;31m:\u001b[0m invalid decimal literal\n"
     ]
    }
   ],
   "source": [
    "hf_hub_download(repo_id=\"Qwen/qwen2-7b-instruct-q5_k_m.gguf\", filename=\"config.json\")\n",
    "\n",
    "https://huggingface.co/Qwen/Qwen2-7B-Instruct-GGUF/resolve/main/README.md"
   ]
  }
 ],
 "metadata": {
  "kernelspec": {
   "display_name": "Python 3 (ipykernel)",
   "language": "python",
   "name": "python3"
  },
  "language_info": {
   "codemirror_mode": {
    "name": "ipython",
    "version": 3
   },
   "file_extension": ".py",
   "mimetype": "text/x-python",
   "name": "python",
   "nbconvert_exporter": "python",
   "pygments_lexer": "ipython3",
   "version": "3.11.9"
  }
 },
 "nbformat": 4,
 "nbformat_minor": 2
}
