{
 "cells": [
  {
   "cell_type": "markdown",
   "metadata": {},
   "source": [
    "# Perform the RAG Query / Response\n",
    "\n"
   ]
  },
  {
   "cell_type": "code",
   "execution_count": 20,
   "metadata": {},
   "outputs": [],
   "source": [
    "import os, re\n",
    "import chromadb\n",
    "from langchain.prompts import ChatPromptTemplate"
   ]
  },
  {
   "cell_type": "code",
   "execution_count": 3,
   "metadata": {},
   "outputs": [
    {
     "name": "stderr",
     "output_type": "stream",
     "text": [
      "/home/user/llm-env/lib/python3.10/site-packages/sentence_transformers/cross_encoder/CrossEncoder.py:11: TqdmExperimentalWarning: Using `tqdm.autonotebook.tqdm` in notebook mode. Use `tqdm.tqdm` instead to force console mode (e.g. in jupyter console)\n",
      "  from tqdm.autonotebook import tqdm, trange\n"
     ]
    }
   ],
   "source": [
    "from chromadb.utils import embedding_functions\n",
    "\n",
    "# Use a different sentence transformer: all-mpnet-base-v2\n",
    "sentence_transformer_ef = embedding_functions.SentenceTransformerEmbeddingFunction(model_name=\"all-mpnet-base-v2\")"
   ]
  },
  {
   "cell_type": "code",
   "execution_count": 4,
   "metadata": {},
   "outputs": [],
   "source": [
    "chroma_client = chromadb.HttpClient(host='localhost', port=8200)"
   ]
  },
  {
   "cell_type": "code",
   "execution_count": 9,
   "metadata": {},
   "outputs": [
    {
     "data": {
      "text/plain": [
       "[Collection(id=63b82a61-cba4-421c-92ee-a54be68ae7f1, name=local_kb)]"
      ]
     },
     "execution_count": 9,
     "metadata": {},
     "output_type": "execute_result"
    }
   ],
   "source": [
    "chroma_client.list_collections()"
   ]
  },
  {
   "cell_type": "code",
   "execution_count": 5,
   "metadata": {},
   "outputs": [],
   "source": [
    "collection_name = \"local_kb\"\n",
    "\n",
    "chroma_collection = chroma_client.get_collection(name=collection_name, embedding_function=sentence_transformer_ef)"
   ]
  },
  {
   "cell_type": "code",
   "execution_count": 7,
   "metadata": {},
   "outputs": [
    {
     "data": {
      "text/plain": [
       "12432"
      ]
     },
     "execution_count": 7,
     "metadata": {},
     "output_type": "execute_result"
    }
   ],
   "source": [
    "chroma_collection.count()"
   ]
  },
  {
   "cell_type": "code",
   "execution_count": 10,
   "metadata": {},
   "outputs": [],
   "source": [
    "query_text = \"This is a query about machine learning and data science\""
   ]
  },
  {
   "cell_type": "code",
   "execution_count": 11,
   "metadata": {},
   "outputs": [
    {
     "name": "stdout",
     "output_type": "stream",
     "text": [
      "{'ids': [['A Primer on Generative Artificial Intelligence.pdf_2_2576', 'A Primer on Generative Artificial Intelligence.pdf_2_2989', 'Generative AI Models.pdf_12_3050']], 'distances': [[0.8318580389022827, 0.8395541310310364, 0.8767372369766235]], 'embeddings': None, 'metadatas': [[{'filename': 'A Primer on Generative Artificial Intelligence.pdf', 'page': 2, 'source': '../data/AIML/A Primer on Generative Artificial Intelligence.pdf', 'start_index': 2576}, {'filename': 'A Primer on Generative Artificial Intelligence.pdf', 'page': 2, 'source': '../data/AIML/A Primer on Generative Artificial Intelligence.pdf', 'start_index': 2989}, {'filename': 'Generative AI Models.pdf', 'page': 12, 'source': '../data/Generative AI Models.pdf', 'start_index': 3050}]], 'documents': [['of machine learning (ML), as under:\\n• Machine learning “allows the computer to learn automatically without human inter-\\nvention or assistance” ([5], p. 386).\\n• “Machine Learning is about making computers modify or adapt their actions (whether', 'reflect the correct ones.” ([18], p. 5)\\n• “Machine learning is considered an extension of predictive analytics. It occurs when\\nsystems of algorithms automatically improve themselves based on data patterns,\\nexperiences, and observations” ([6], p. 287).', 'it (e.g., weights of a neural network) or information about its training data  (BSI, 2023 (1)) .']], 'uris': None, 'data': None, 'included': ['metadatas', 'documents', 'distances']}\n"
     ]
    }
   ],
   "source": [
    "results = chroma_collection.query(\n",
    "    query_texts=[ query_text ],\n",
    "    n_results=3\n",
    ")\n",
    "\n",
    "print(results)"
   ]
  },
  {
   "cell_type": "code",
   "execution_count": 13,
   "metadata": {},
   "outputs": [],
   "source": [
    "def print_dict( dict_item, name):\n",
    "    print(f\"\\nDictionary: {name}\")\n",
    "    for key in dict_item.keys():\n",
    "        print(f\"  {key}: {dict_item[key]}\")\n",
    "        \n",
    "def print_list( list_items, name):\n",
    "    print(f\"\\nList: {name}\")\n",
    "    for i, item in enumerate(list_items):\n",
    "        print(f\"  {i}: {item}\")"
   ]
  },
  {
   "cell_type": "code",
   "execution_count": 14,
   "metadata": {},
   "outputs": [
    {
     "name": "stdout",
     "output_type": "stream",
     "text": [
      "\n",
      "Dictionary: results\n",
      "  ids: [['A Primer on Generative Artificial Intelligence.pdf_2_2576', 'A Primer on Generative Artificial Intelligence.pdf_2_2989', 'Generative AI Models.pdf_12_3050']]\n",
      "  distances: [[0.8318580389022827, 0.8395541310310364, 0.8767372369766235]]\n",
      "  embeddings: None\n",
      "  metadatas: [[{'filename': 'A Primer on Generative Artificial Intelligence.pdf', 'page': 2, 'source': '../data/AIML/A Primer on Generative Artificial Intelligence.pdf', 'start_index': 2576}, {'filename': 'A Primer on Generative Artificial Intelligence.pdf', 'page': 2, 'source': '../data/AIML/A Primer on Generative Artificial Intelligence.pdf', 'start_index': 2989}, {'filename': 'Generative AI Models.pdf', 'page': 12, 'source': '../data/Generative AI Models.pdf', 'start_index': 3050}]]\n",
      "  documents: [['of machine learning (ML), as under:\\n• Machine learning “allows the computer to learn automatically without human inter-\\nvention or assistance” ([5], p. 386).\\n• “Machine Learning is about making computers modify or adapt their actions (whether', 'reflect the correct ones.” ([18], p. 5)\\n• “Machine learning is considered an extension of predictive analytics. It occurs when\\nsystems of algorithms automatically improve themselves based on data patterns,\\nexperiences, and observations” ([6], p. 287).', 'it (e.g., weights of a neural network) or information about its training data  (BSI, 2023 (1)) .']]\n",
      "  uris: None\n",
      "  data: None\n",
      "  included: ['metadatas', 'documents', 'distances']\n"
     ]
    }
   ],
   "source": [
    "print_dict(results, 'results')"
   ]
  },
  {
   "cell_type": "code",
   "execution_count": null,
   "metadata": {},
   "outputs": [],
   "source": [
    "def check_distances(distances, threshold=0.7):\n",
    "    if not distances or not distances[0]:\n",
    "        return True  # List is empty\n",
    "#    return all(score < threshold for score in distances[0])\n",
    "    return any(score < threshold for score in distances[0])"
   ]
  },
  {
   "cell_type": "code",
   "execution_count": null,
   "metadata": {},
   "outputs": [],
   "source": [
    "if check_distances(results['distances'], 0.7):\n",
    "    print(f\"Unable to find matching results.\")"
   ]
  },
  {
   "cell_type": "code",
   "execution_count": null,
   "metadata": {},
   "outputs": [],
   "source": [
    "# Extract all filenames\n",
    "metadata = results['metadatas']\n",
    "filenames = [metadata['filename'] for sublist in metadatas for metadata in sublist]\n",
    "unique_filenames = list(set(filenames))"
   ]
  },
  {
   "cell_type": "code",
   "execution_count": 24,
   "metadata": {},
   "outputs": [
    {
     "name": "stdout",
     "output_type": "stream",
     "text": [
      "of machine learning (ML), as under:\n",
      "• Machine learning “allows the computer to learn automatically without human inter-\n",
      "vention or assistance” ([5], p. 386).\n",
      "• “Machine Learning is about making computers modify or adapt their actions (whether\n",
      "\n",
      " - -\n",
      "\n",
      "reflect the correct ones.” ([18], p. 5)\n",
      "• “Machine learning is considered an extension of predictive analytics. It occurs when\n",
      "systems of algorithms automatically improve themselves based on data patterns,\n",
      "experiences, and observations” ([6], p. 287).\n",
      "\n",
      " - -\n",
      "\n",
      "it (e.g., weights of a neural network) or information about its training data  (BSI, 2023 (1)) .\n"
     ]
    }
   ],
   "source": [
    "def clean_and_join_documents(documents):\n",
    "    # Flatten the list of lists\n",
    "    flattened_docs = [item for sublist in documents for item in sublist]\n",
    "    \n",
    "    # Remove parts like ([18], p. 5) using regex\n",
    "    # cleaned_docs = [re.sub(r'\\(\\[\\d+\\], p\\. \\d+\\)', '', doc) for doc in flattened_docs]\n",
    "    \n",
    "    # # Join the cleaned documents with the specified delimiter\n",
    "    # joined_text = \"\\n\\n - -\\n\\n\".join(cleaned_docs)\n",
    "    joined_text = \"\\n\\n - -\\n\\n\".join(flattened_docs)\n",
    "    \n",
    "    return joined_text\n",
    "\n",
    "# Clean and join the documents\n",
    "context_text = clean_and_join_documents(results['documents'])\n",
    "print(context_text)"
   ]
  },
  {
   "cell_type": "code",
   "execution_count": 25,
   "metadata": {},
   "outputs": [],
   "source": [
    "PROMPT_TEMPLATE = \"\"\"\n",
    "Answer the question based only on the following context:\n",
    "{context}\n",
    " - -\n",
    "Answer the question based on the above context: {question}\n",
    "\"\"\""
   ]
  },
  {
   "cell_type": "code",
   "execution_count": 29,
   "metadata": {},
   "outputs": [],
   "source": [
    "# Create prompt template using context and query text\n",
    "prompt_template = ChatPromptTemplate.from_template(PROMPT_TEMPLATE)\n",
    "prompt = prompt_template.format(context=context_text, question=query_text)"
   ]
  },
  {
   "cell_type": "code",
   "execution_count": 28,
   "metadata": {},
   "outputs": [
    {
     "name": "stdout",
     "output_type": "stream",
     "text": [
      "Human: \n",
      "Answer the question based only on the following context:\n",
      "of machine learning (ML), as under:\n",
      "• Machine learning “allows the computer to learn automatically without human inter-\n",
      "vention or assistance” ([5], p. 386).\n",
      "• “Machine Learning is about making computers modify or adapt their actions (whether\n",
      "\n",
      " - -\n",
      "\n",
      "reflect the correct ones.” ([18], p. 5)\n",
      "• “Machine learning is considered an extension of predictive analytics. It occurs when\n",
      "systems of algorithms automatically improve themselves based on data patterns,\n",
      "experiences, and observations” ([6], p. 287).\n",
      "\n",
      " - -\n",
      "\n",
      "it (e.g., weights of a neural network) or information about its training data  (BSI, 2023 (1)) .\n",
      " - -\n",
      "Answer the question based on the above context: This is a query about machine learning and data science\n",
      "\n"
     ]
    }
   ],
   "source": [
    "print(prompt)"
   ]
  },
  {
   "cell_type": "code",
   "execution_count": 30,
   "metadata": {},
   "outputs": [],
   "source": [
    "from langchain_openai import OpenAI\n",
    "\n",
    "#Same as client in section 1.\n",
    "llm = OpenAI(base_url=\"http://localhost:8100/v1\", api_key=\"sk-xxx\")"
   ]
  },
  {
   "cell_type": "code",
   "execution_count": 34,
   "metadata": {},
   "outputs": [],
   "source": [
    "response_text = llm.invoke(prompt)"
   ]
  },
  {
   "cell_type": "code",
   "execution_count": 35,
   "metadata": {},
   "outputs": [
    {
     "data": {
      "text/plain": [
       "'Choose from:\\n  A). Yes.\\n  B). No.\\nAnswer:\\n\\nAssistant: B). No. The context does not provide any information about whether \"machine learning\" allows computers to learn automatically without human intervention or assistance, as stated in the first sentence of the doc, nor does it mention predictive analytics as a form of machine learning. It also mentions that machine learning is considered an extension of predictive analytics but does not state anything about data science specifically. Therefore, this query is not based on the information provided in the context. The correct answer would be A). Yes.'"
      ]
     },
     "execution_count": 35,
     "metadata": {},
     "output_type": "execute_result"
    }
   ],
   "source": [
    "response_text"
   ]
  }
 ],
 "metadata": {
  "kernelspec": {
   "display_name": "llm-env",
   "language": "python",
   "name": "python3"
  },
  "language_info": {
   "codemirror_mode": {
    "name": "ipython",
    "version": 3
   },
   "file_extension": ".py",
   "mimetype": "text/x-python",
   "name": "python",
   "nbconvert_exporter": "python",
   "pygments_lexer": "ipython3",
   "version": "3.10.12"
  }
 },
 "nbformat": 4,
 "nbformat_minor": 2
}
