{
 "cells": [
  {
   "cell_type": "code",
   "execution_count": 2,
   "metadata": {},
   "outputs": [],
   "source": [
    "import gradio as gr\n",
    "\n",
    "from openai import OpenAI\n",
    "\n",
    "client = OpenAI(base_url=\"http://localhost:8000/v1\", api_key=\"llama.cpp\")\n",
    "\n",
    "model = \"gpt-3.5-turbo\"\n"
   ]
  },
  {
   "cell_type": "code",
   "execution_count": 3,
   "metadata": {},
   "outputs": [],
   "source": [
    "def predict(message, history):\n",
    "    messages = []\n",
    "\n",
    "    for user_message, assistant_message in history:\n",
    "        messages.append({\"role\": \"user\", \"content\": user_message})\n",
    "        messages.append({\"role\": \"assistant\", \"content\": assistant_message})\n",
    "\n",
    "    messages.append({\"role\": \"user\", \"content\": message})\n",
    "\n",
    "    response = client.chat.completions.create(\n",
    "        model=model, messages=messages, stream=True\n",
    "    )\n",
    "\n",
    "    text = \"\"\n",
    "    for chunk in response:\n",
    "        content = chunk.choices[0].delta.content\n",
    "        if content:\n",
    "            text += content\n",
    "            yield text"
   ]
  },
  {
   "cell_type": "code",
   "execution_count": 4,
   "metadata": {},
   "outputs": [],
   "source": [
    "js = \"\"\"function () {\n",
    "  gradioURL = window.location.href\n",
    "  if (!gradioURL.endsWith('?__theme=dark')) {\n",
    "    window.location.replace(gradioURL + '?__theme=dark');\n",
    "  }\n",
    "}\"\"\"\n",
    "\n",
    "css = \"\"\"\n",
    "footer {\n",
    "    visibility: hidden;\n",
    "}\n",
    "full-height {\n",
    "    height: 100%;\n",
    "}\n",
    "\"\"\""
   ]
  },
  {
   "cell_type": "code",
   "execution_count": 5,
   "metadata": {},
   "outputs": [],
   "source": [
    "with gr.Blocks(theme=gr.themes.Soft(), js=js, css=css, fill_height=True) as demo:\n",
    "    gr.ChatInterface(\n",
    "        predict,\n",
    "        fill_height=True,\n",
    "        examples=[\n",
    "            \"What is the capital of France?\",\n",
    "            \"Who was the first person on the moon?\",\n",
    "        ],\n",
    "    )"
   ]
  },
  {
   "cell_type": "code",
   "execution_count": null,
   "metadata": {},
   "outputs": [],
   "source": [
    "from openai import OpenAI\n",
    "\n",
    "client = OpenAI(base_url=\"http://<host>:<port>/v1\", api_key=\"sk-xxx\")\n",
    "response = client.chat.completions.create(\n",
    "    model=\"gpt-4-vision-preview\",\n",
    "    messages=[\n",
    "        {\n",
    "            \"role\": \"user\",\n",
    "            \"content\": [\n",
    "                {\n",
    "                    \"type\": \"image_url\",\n",
    "                    \"image_url\": {\n",
    "                        \"url\": \"<image_url>\"\n",
    "                    },\n",
    "                },\n",
    "                {\"type\": \"text\", \"text\": \"What does the image say\"},\n",
    "            ],\n",
    "        }\n",
    "    ],\n",
    ")\n",
    "print(response)"
   ]
  }
 ],
 "metadata": {
  "kernelspec": {
   "display_name": "llm-env",
   "language": "python",
   "name": "python3"
  },
  "language_info": {
   "codemirror_mode": {
    "name": "ipython",
    "version": 3
   },
   "file_extension": ".py",
   "mimetype": "text/x-python",
   "name": "python",
   "nbconvert_exporter": "python",
   "pygments_lexer": "ipython3",
   "version": "3.10.12"
  }
 },
 "nbformat": 4,
 "nbformat_minor": 2
}
