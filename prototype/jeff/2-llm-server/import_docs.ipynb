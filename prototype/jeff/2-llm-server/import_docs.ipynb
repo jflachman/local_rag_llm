{
 "cells": [
  {
   "cell_type": "markdown",
   "metadata": {},
   "source": [
    "# Ptototype:  import documents into knowledge base\n",
    "\n",
    "# Notes:\n",
    "\n",
    "- https://github.com/sunny2309/llama_cpp_python_tutorial/blob/main/Llama%20CPP%20Tutorial.ipynb\n",
    "\n",
    "- startup jupyter docker container\n",
    "  - ``\n",
    "- install necessary libraries: pip install -r requirements-scypy.txt\n"
   ]
  },
  {
   "cell_type": "code",
   "execution_count": 10,
   "metadata": {},
   "outputs": [],
   "source": [
    "llama_model = \"/home/user/rag_llm/models/qwen2_500m/qwen2-0_5b-instruct-q5_k_m.gguf\""
   ]
  },
  {
   "cell_type": "code",
   "execution_count": 2,
   "metadata": {},
   "outputs": [
    {
     "data": {
      "text/plain": [
       "'0.2.77'"
      ]
     },
     "execution_count": 2,
     "metadata": {},
     "output_type": "execute_result"
    }
   ],
   "source": [
    "import llama_cpp\n",
    "\n",
    "llama_cpp.__version__\n"
   ]
  },
  {
   "cell_type": "code",
   "execution_count": 4,
   "metadata": {},
   "outputs": [
    {
     "data": {
      "text/plain": [
       "<llama_cpp.llama.Llama at 0x7fb45d9d0f40>"
      ]
     },
     "execution_count": 4,
     "metadata": {},
     "output_type": "execute_result"
    }
   ],
   "source": [
    "from llama_cpp import Llama\n",
    "\n",
    "llm = Llama(model_path=\"/home/user/rag_llm/models/qwen2_500m/qwen2-0_5b-instruct-q5_k_m.gguf\", verbose=False)\n",
    "\n",
    "llm\n",
    "\n",
    "\n"
   ]
  },
  {
   "cell_type": "code",
   "execution_count": 5,
   "metadata": {},
   "outputs": [],
   "source": [
    "resp = llm(\"Q: Write a short paragraph introducing Elon Musk. A: \",\n",
    "           max_tokens=256,\n",
    "           stop=[\"Q:\", \"\\n\"])"
   ]
  },
  {
   "cell_type": "code",
   "execution_count": 6,
   "metadata": {},
   "outputs": [
    {
     "data": {
      "text/plain": [
       "{'id': 'cmpl-f6718caa-1e70-42a5-b67c-57d6d19e03a9',\n",
       " 'object': 'text_completion',\n",
       " 'created': 1721188036,\n",
       " 'model': '/home/user/rag_llm/models/qwen2_500m/qwen2-0_5b-instruct-q5_k_m.gguf',\n",
       " 'choices': [{'text': ' Elon Musk is an American inventor, entrepreneur, and CEO of Tesla Motors, SpaceX, Neuralink, The Boring Company, and The Lightning Network. He was born on December 18, 1957, in South Florida to parents Morris and Edie. Musk began his career in the technology industry working as a programmer at the IBM Research laboratory before founding the company SpaceX in 2004. In 2013, he founded Neuralink, an autonomous brain implant startup that aims to revolutionize the field of regenerative medicine by enhancing neural circuits and synapses. He has also launched The Boring Company, a space tourism and infrastructure project aiming to travel through space at speeds up to Mach 6 (as calculated in the movie \"Avatar\"). Musk\\'s latest innovation is The Lightning Network, which connects over 10 million devices around the world through a decentralized network of smart contracts, blockchain technology, and other digital assets.',\n",
       "   'index': 0,\n",
       "   'logprobs': None,\n",
       "   'finish_reason': 'stop'}],\n",
       " 'usage': {'prompt_tokens': 13, 'completion_tokens': 192, 'total_tokens': 205}}"
      ]
     },
     "execution_count": 6,
     "metadata": {},
     "output_type": "execute_result"
    }
   ],
   "source": [
    "resp"
   ]
  },
  {
   "cell_type": "code",
   "execution_count": 7,
   "metadata": {},
   "outputs": [
    {
     "data": {
      "text/plain": [
       "' Elon Musk is an American inventor, entrepreneur, and CEO of Tesla Motors, SpaceX, Neuralink, The Boring Company, and The Lightning Network. He was born on December 18, 1957, in South Florida to parents Morris and Edie. Musk began his career in the technology industry working as a programmer at the IBM Research laboratory before founding the company SpaceX in 2004. In 2013, he founded Neuralink, an autonomous brain implant startup that aims to revolutionize the field of regenerative medicine by enhancing neural circuits and synapses. He has also launched The Boring Company, a space tourism and infrastructure project aiming to travel through space at speeds up to Mach 6 (as calculated in the movie \"Avatar\"). Musk\\'s latest innovation is The Lightning Network, which connects over 10 million devices around the world through a decentralized network of smart contracts, blockchain technology, and other digital assets.'"
      ]
     },
     "execution_count": 7,
     "metadata": {},
     "output_type": "execute_result"
    }
   ],
   "source": [
    "resp[\"choices\"][0][\"text\"]"
   ]
  },
  {
   "cell_type": "markdown",
   "metadata": {},
   "source": [
    "Stream a response"
   ]
  },
  {
   "cell_type": "code",
   "execution_count": 8,
   "metadata": {},
   "outputs": [
    {
     "data": {
      "text/plain": [
       "<generator object Llama._create_completion at 0x7fb40eed8a50>"
      ]
     },
     "execution_count": 8,
     "metadata": {},
     "output_type": "execute_result"
    }
   ],
   "source": [
    "resp = llm(\"Q: Write a short paragraph introducing Elon Musk. A: \",\n",
    "           max_tokens=256,\n",
    "           stop=[\"Q:\", \"\\n\"],\n",
    "           stream=True)\n",
    "\n",
    "resp"
   ]
  },
  {
   "cell_type": "code",
   "execution_count": 9,
   "metadata": {},
   "outputs": [
    {
     "name": "stdout",
     "output_type": "stream",
     "text": [
      " Elon Musk, also known as The Electric Car Man, is an American entrepreneur and inventor who has become one of the most successful and influential individuals in modern history. With a background in technology, he is best known for his pioneering work in electric cars, which have revolutionized transportation and led to a widespread adoption of renewable energy sources. His company SpaceX is known for its ambitious plans to explore Mars, while Tesla is a pioneer in battery energy storage solutions that are now powering millions of homes around the world. Despite facing significant criticism from some quarters regarding his controversial views on space exploration and political influence, Musk continues to build upon his legacy with groundbreaking innovations and pioneering projects. He has also been recognized for his philanthropic efforts, such as funding renewable energy research at Tesla Research in California."
     ]
    }
   ],
   "source": [
    "for r in resp:\n",
    "    print(r[\"choices\"][0][\"text\"], end=\"\")"
   ]
  },
  {
   "cell_type": "code",
   "execution_count": 11,
   "metadata": {},
   "outputs": [
    {
     "data": {
      "text/plain": [
       "{'id': 'chatcmpl-05ef0d7f-4eb6-42bf-80ce-557f241f1d3f',\n",
       " 'object': 'chat.completion',\n",
       " 'created': 1721188294,\n",
       " 'model': '/home/user/rag_llm/models/qwen2_500m/qwen2-0_5b-instruct-q5_k_m.gguf',\n",
       " 'choices': [{'index': 0,\n",
       "   'message': {'role': 'assistant',\n",
       "    'content': 'Elon Musk is a visionary entrepreneur, inventor, and philanthropist known for his groundbreaking ideas in the fields of electric vehicles, space exploration, and renewable energy technologies. Born on July 25, 1971, Musk has been at the forefront of innovation since childhood, growing up in a family that values science and technology. He is best known as the co-founder and CEO of SpaceX, Tesla, Neuralink, and The Boring Company, among others. His passion for creating new technologies and pushing boundaries in fields such as space exploration and electric vehicles has earned him numerous accolades and awards throughout his career.'},\n",
       "   'logprobs': None,\n",
       "   'finish_reason': 'stop'}],\n",
       " 'usage': {'prompt_tokens': 30, 'completion_tokens': 126, 'total_tokens': 156}}"
      ]
     },
     "execution_count": 11,
     "metadata": {},
     "output_type": "execute_result"
    }
   ],
   "source": [
    "from llama_cpp import Llama\n",
    "\n",
    "llama2_chat = Llama(model_path=llama_model, verbose=False) \n",
    "\n",
    "resp = llama2_chat.create_chat_completion(\n",
    "      messages = [\n",
    "          {\"role\": \"system\", \"content\": \"You are an assistant who perfectly describes individuals.\"},\n",
    "          {\n",
    "              \"role\": \"user\",\n",
    "              \"content\": \"Write a short paragraph introducing Elon Musk.\"\n",
    "          }\n",
    "      ]\n",
    ")\n",
    "\n",
    "resp"
   ]
  },
  {
   "cell_type": "code",
   "execution_count": 12,
   "metadata": {},
   "outputs": [
    {
     "data": {
      "text/plain": [
       "{'role': 'assistant',\n",
       " 'content': 'Elon Musk is a visionary entrepreneur, inventor, and philanthropist known for his groundbreaking ideas in the fields of electric vehicles, space exploration, and renewable energy technologies. Born on July 25, 1971, Musk has been at the forefront of innovation since childhood, growing up in a family that values science and technology. He is best known as the co-founder and CEO of SpaceX, Tesla, Neuralink, and The Boring Company, among others. His passion for creating new technologies and pushing boundaries in fields such as space exploration and electric vehicles has earned him numerous accolades and awards throughout his career.'}"
      ]
     },
     "execution_count": 12,
     "metadata": {},
     "output_type": "execute_result"
    }
   ],
   "source": [
    "resp[\"choices\"][0][\"message\"]"
   ]
  }
 ],
 "metadata": {
  "kernelspec": {
   "display_name": "llm-env",
   "language": "python",
   "name": "python3"
  },
  "language_info": {
   "codemirror_mode": {
    "name": "ipython",
    "version": 3
   },
   "file_extension": ".py",
   "mimetype": "text/x-python",
   "name": "python",
   "nbconvert_exporter": "python",
   "pygments_lexer": "ipython3",
   "version": "3.10.12"
  }
 },
 "nbformat": 4,
 "nbformat_minor": 2
}
